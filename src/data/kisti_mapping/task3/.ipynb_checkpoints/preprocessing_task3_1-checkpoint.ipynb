{
 "cells": [
  {
   "cell_type": "code",
   "execution_count": 437,
   "id": "6650d28e-4473-46c8-ab29-a6faf623eb40",
   "metadata": {},
   "outputs": [],
   "source": [
    "import json\n",
    "import pandas as pd\n",
    "import numpy as np\n",
    "from copy import deepcopy\n",
    "from tqdm import tqdm\n",
    "from collections import defaultdict\n",
    "# pd.set_option('display.max_rows', None)"
   ]
  },
  {
   "cell_type": "code",
   "execution_count": 2,
   "id": "8a031af5-8950-4c42-a626-6968c558d9c9",
   "metadata": {},
   "outputs": [],
   "source": [
    "pro = json.load(open(\"./task3_product.json\"))\n",
    "cat = json.load(open(\"./zodal_cat.json\"))"
   ]
  },
  {
   "cell_type": "code",
   "execution_count": 244,
   "id": "827387c7",
   "metadata": {
    "collapsed": true
   },
   "outputs": [
    {
     "name": "stdout",
     "output_type": "stream",
     "text": [
      "7434\n",
      "다음 물품 분류는 주사기, 영어로 Medication or vaccine syringes 입니다. 주사기의 상세설명은 다음과 같습니다. 의약품 등을 인체에 주입하는 데에 사용하는 플라스틱 멸균 주사기. [식약처분류:A54010.01] \n",
      "\n",
      "7436\n",
      "다음 물품 분류는 주사기, 영어로 Medication or vaccine syringes 입니다. 주사기의 상세설명은 다음과 같습니다. 의약품 등을 인체에 주입하는 데에 사용하는 플라스틱 멸균 주사기. [식약처분류:A54010.01] \n",
      "\n",
      "7505\n",
      "다음 물품 분류는 치과용근관플러거, 영어로 Endodontic pulp canal pluggers 입니다. 치과용근관플러거의 상세설명은 다음과 같습니다. 원주형 또는 끝이 가는 작업부분을 갖고 횡단면이 원형이며 선단이 평탄한 치과용 기구. 근관에 충전물을 주로 축방향으로 충전하는 기구. [식약처분류:A62010.04 치과용근관플러거] \n",
      "\n",
      "7506\n",
      "다음 물품 분류는 의료용충전기, 영어로 Medical fillers 입니다. 의료용충전기의 상세설명은 다음과 같습니다. 인체 내부에 각종 성형 충전재 등을 압착 성형하는 기구. 치과용은 여기에서 제외됨. [식약처분류:A62010.01 의료용충전기] \n",
      "\n",
      "7508\n",
      "다음 물품 분류는 치과용아말감충전기, 영어로 Dental amalgam condenser 입니다. 치과용아말감충전기의 상세설명은 다음과 같습니다. 혼합된 아말감을 와동내에 압착 성형하는 기구. [식약처분류:A62040.01 치과용아말감충전기] \n",
      "\n",
      "7510\n",
      "다음 물품 분류는 의료용핸드피스, 영어로 Surgical drill handpieces 입니다. 의료용핸드피스의 상세설명은 다음과 같습니다. 인체 조직을 천자, 천공, 절삭하는 기구에 연결되는 손잡이 기구. [식약처분류:A55030.01 수동식재사용가능의료용핸드피스, A55030.02 수동식일회용의료용핸드피스, A55030.03 전동식의료용핸드피스] \n",
      "\n",
      "7544\n",
      "다음 물품 분류는 치과용아말감충전기, 영어로 Dental amalgam condenser 입니다. 치과용아말감충전기의 상세설명은 다음과 같습니다. 혼합된 아말감을 와동내에 압착 성형하는 기구. [식약처분류:A62040.01 치과용아말감충전기] \n",
      "\n",
      "7545\n",
      "다음 물품 분류는 치과용근관플러거, 영어로 Endodontic pulp canal pluggers 입니다. 치과용근관플러거의 상세설명은 다음과 같습니다. 원주형 또는 끝이 가는 작업부분을 갖고 횡단면이 원형이며 선단이 평탄한 치과용 기구. 근관에 충전물을 주로 축방향으로 충전하는 기구. [식약처분류:A62010.04 치과용근관플러거] \n",
      "\n",
      "8335\n",
      "다음 물품 분류는 의료용핸드피스, 영어로 Surgical drill handpieces 입니다. 의료용핸드피스의 상세설명은 다음과 같습니다. 인체 조직을 천자, 천공, 절삭하는 기구에 연결되는 손잡이 기구. [식약처분류:A55030.01 수동식재사용가능의료용핸드피스, A55030.02 수동식일회용의료용핸드피스, A55030.03 전동식의료용핸드피스] \n",
      "\n",
      "8596\n",
      "다음 물품 분류는 의료용충전기, 영어로 Medical fillers 입니다. 의료용충전기의 상세설명은 다음과 같습니다. 인체 내부에 각종 성형 충전재 등을 압착 성형하는 기구. 치과용은 여기에서 제외됨. [식약처분류:A62010.01 의료용충전기] \n",
      "\n",
      "10246\n",
      "다음 물품 분류는 에어다이브, 영어로 Air dive 입니다. 에어다이브의 상세설명은 다음과 같습니다. 위로 향하는 강한 바람 위에서 스카이다이빙 연습을 할 수 있는 장치. \n",
      "\n",
      "10281\n",
      "다음 물품 분류는 에어다이브, 영어로 Air dive 입니다. 에어다이브의 상세설명은 다음과 같습니다. 위로 향하는 강한 바람 위에서 스카이다이빙 연습을 할 수 있는 장치. \n",
      "\n"
     ]
    }
   ],
   "source": [
    "lv5_prompt = []\n",
    "\n",
    "for i,d in enumerate(cat):\n",
    "    lv5_prompt.append(d['input'])\n",
    "\n",
    "duple_lv5_idx = []\n",
    "for i, p in enumerate(lv5_prompt):\n",
    "    for s in duple_lv5_prompt:\n",
    "        if p == s:\n",
    "            print(i)\n",
    "            print(p, '\\n')\n",
    "            duple_lv5_idx.append(i)"
   ]
  },
  {
   "cell_type": "code",
   "execution_count": 245,
   "id": "6a4b73c9",
   "metadata": {},
   "outputs": [],
   "source": [
    "drop_idx = [7436, 7545, 8596, 7544, 8335, 10281]"
   ]
  },
  {
   "cell_type": "code",
   "execution_count": 931,
   "id": "45ee7ded",
   "metadata": {},
   "outputs": [],
   "source": [
    "unique_prompt_idx = list(set(range(len(lv5_prompt)))-set(drop_idx))"
   ]
  },
  {
   "cell_type": "code",
   "execution_count": 257,
   "id": "4e342b4e",
   "metadata": {},
   "outputs": [],
   "source": [
    "new_cat = np.array(cat)[unique_prompt_idx].tolist()"
   ]
  },
  {
   "cell_type": "code",
   "execution_count": 287,
   "id": "7acc96b9",
   "metadata": {},
   "outputs": [],
   "source": [
    "lv5_prompt = []\n",
    "lv5_key = []\n",
    "lv5_prompt2idx = {}\n",
    "lv5_idx2key = {}\n",
    "for i,d in enumerate(new_cat):\n",
    "    lv5_prompt.append(d['input'])\n",
    "    lv5_key.append(d['output'].split(\"다음 물품 분류는 \")[-1].split(\",\")[0].split(\"입니다. \")[0])\n",
    "    lv5_prompt2idx[d['input']]=i\n",
    "    lv5_idx2key[i]=d['output'].split(\"다음 물품 분류는 \")[-1].split(\",\")[0].split(\"입니다. \")[0]"
   ]
  },
  {
   "cell_type": "code",
   "execution_count": null,
   "id": "fdbb1da1",
   "metadata": {},
   "outputs": [],
   "source": [
    "lv5_idx2prompt = {}\n",
    "for k,v in lv5_prompt2idx.items():\n",
    "    lv5_idx2prompt[v]=k"
   ]
  },
  {
   "cell_type": "code",
   "execution_count": 288,
   "id": "ee4ef173",
   "metadata": {},
   "outputs": [
    {
     "data": {
      "text/plain": [
       "(21829, 21829, 21829, 21829)"
      ]
     },
     "execution_count": 288,
     "metadata": {},
     "output_type": "execute_result"
    }
   ],
   "source": [
    "len(lv5_prompt2idx), len(lv5_idx2prompt), len(lv5_prompt), len(lv5_key), len(lv5_idx2key)"
   ]
  },
  {
   "cell_type": "code",
   "execution_count": 932,
   "id": "2683d25b",
   "metadata": {},
   "outputs": [],
   "source": [
    "# emb_zodal_cat_max_leng_512_masked = torch.load(\"../../../kisti_output/emb_zodal_cat_max_leng_512_masked.pt\", map_location='cpu')\n",
    "# emb_zodal_cat_max_leng_2048_masked = torch.load(\"../../../kisti_output/emb_zodal_cat_max_leng_2048_masked.pt\", map_location='cpu')\n",
    "emb_zodal_cat_max_leng_512_eos = torch.load(\"../../../kisti_output/emb_zodal_cat_max_leng_512_eos.pt\", map_location='cpu')\n",
    "emb_zodal_cat_max_leng_2048_eos = torch.load(\"../../../kisti_output/emb_zodal_cat_max_leng_2048_eos.pt\", map_location='cpu')"
   ]
  },
  {
   "cell_type": "code",
   "execution_count": 933,
   "id": "5c77073c",
   "metadata": {},
   "outputs": [
    {
     "data": {
      "text/plain": [
       "(21829, 21829, 21835, 21835)"
      ]
     },
     "execution_count": 933,
     "metadata": {},
     "output_type": "execute_result"
    }
   ],
   "source": [
    "len(emb_zodal_cat_max_leng_512_masked), len(emb_zodal_cat_max_leng_2048_masked), len(emb_zodal_cat_max_leng_512_eos), len(emb_zodal_cat_max_leng_2048_eos)"
   ]
  },
  {
   "cell_type": "code",
   "execution_count": 934,
   "id": "385bb83c",
   "metadata": {},
   "outputs": [],
   "source": [
    "# emb_zodal_cat_max_leng_512_masked = emb_zodal_cat_max_leng_512_masked[unique_prompt_idx]\n",
    "# emb_zodal_cat_max_leng_2048_masked = emb_zodal_cat_max_leng_2048_masked[unique_prompt_idx]\n",
    "emb_zodal_cat_max_leng_512_eos = emb_zodal_cat_max_leng_512_eos[unique_prompt_idx]\n",
    "emb_zodal_cat_max_leng_2048_eos = emb_zodal_cat_max_leng_2048_eos[unique_prompt_idx]"
   ]
  },
  {
   "cell_type": "code",
   "execution_count": 935,
   "id": "2cf99076",
   "metadata": {},
   "outputs": [
    {
     "data": {
      "text/plain": [
       "(21829, 21829, 21823, 21823)"
      ]
     },
     "execution_count": 935,
     "metadata": {},
     "output_type": "execute_result"
    }
   ],
   "source": [
    "len(emb_zodal_cat_max_leng_512_masked), len(emb_zodal_cat_max_leng_2048_masked), len(emb_zodal_cat_max_leng_512_eos), len(emb_zodal_cat_max_leng_2048_eos)"
   ]
  },
  {
   "cell_type": "code",
   "execution_count": 936,
   "id": "08fd5922",
   "metadata": {},
   "outputs": [],
   "source": [
    "# torch.save(emb_zodal_cat_max_leng_512_masked, \"../../../kisti_output/emb_zodal_cat_max_leng_512_masked.pt\")\n",
    "# torch.save(emb_zodal_cat_max_leng_2048_masked, \"../../../kisti_output/emb_zodal_cat_max_leng_2048_masked.pt\")\n",
    "torch.save(emb_zodal_cat_max_leng_512_eos, \"../../../kisti_output/emb_zodal_cat_max_leng_512_eos.pt\")\n",
    "torch.save(emb_zodal_cat_max_leng_2048_eos, \"../../../kisti_output/emb_zodal_cat_max_leng_2048_eos.pt\")"
   ]
  },
  {
   "cell_type": "code",
   "execution_count": 270,
   "id": "c24608dc",
   "metadata": {},
   "outputs": [],
   "source": [
    "lv5_label_prompt = []\n",
    "lv5_label_idx = {}\n",
    "for i, d in enumerate(pro):\n",
    "    lv5_label_prompt.append(d['output'])\n",
    "    lv5_label_idx[i]=lv5_prompt2idx[d['output']]"
   ]
  },
  {
   "cell_type": "code",
   "execution_count": 937,
   "id": "0f5e8378",
   "metadata": {
    "scrolled": true
   },
   "outputs": [
    {
     "data": {
      "text/plain": [
       "21823"
      ]
     },
     "execution_count": 937,
     "metadata": {},
     "output_type": "execute_result"
    }
   ],
   "source": [
    "zodalraw = pd.read_csv(\"./zodal_raw.csv\")\n",
    "zodalraw = zodalraw.iloc[unique_prompt_idx].reindex()\n",
    "len(zodalraw)"
   ]
  },
  {
   "cell_type": "code",
   "execution_count": 494,
   "id": "8c29630a",
   "metadata": {},
   "outputs": [],
   "source": [
    "lv4_key, lv3_key, lv2_key, lv1_key = defaultdict(list), defaultdict(list), defaultdict(list), defaultdict(list)\n",
    "lv4_list, lv3_list, lv2_list, lv1_list = [], [], [], []\n",
    "duple_raw = defaultdict(int)\n",
    "for i, row in zodalraw.iterrows():\n",
    "    duple_raw[row[\"context\"].split(\"분류체계는 \")[-1].split(\"입니다\")[0]] += 1\n",
    "    \n",
    "    lv4_key[row[\"context\"].split(\"분류체계는 \")[-1].split(\"입니다\")[0]].append(row[\"response\"].split(\"품명: \")[-1])\n",
    "    lv4_list.append(row[\"response\"].split(\"품명: \")[-1])\n",
    "    \n",
    "    lv3_key[row[\"context\"].split(\"분류체계는 \")[-1].split(\"입니다\")[0]].append(row['response'].split(\"소분류: \")[-1].split(\" 품명:\")[0])\n",
    "    lv3_list.append(row['response'].split(\"소분류: \")[-1].split(\" 품명:\")[0])\n",
    "    \n",
    "    lv2_key[row[\"context\"].split(\"분류체계는 \")[-1].split(\"입니다\")[0]].append(row['response'].split(\"중분류: \")[-1].split(\" 소분류:\")[0])\n",
    "    lv2_list.append(row['response'].split(\"중분류: \")[-1].split(\" 소분류:\")[0])\n",
    "    \n",
    "    lv1_key[row[\"context\"].split(\"분류체계는 \")[-1].split(\"입니다\")[0]].append(row['response'].split(\"대분류: \")[-1].split(\" 중분류:\")[0])\n",
    "    lv1_list.append(row['response'].split(\"대분류: \")[-1].split(\" 중분류:\")[0])"
   ]
  },
  {
   "cell_type": "code",
   "execution_count": 519,
   "id": "46bb9ccf",
   "metadata": {},
   "outputs": [
    {
     "data": {
      "text/plain": [
       "(21797, 21797, 21797, 21797, 21829)"
      ]
     },
     "execution_count": 519,
     "metadata": {},
     "output_type": "execute_result"
    }
   ],
   "source": [
    "len(lv4_key), len(lv3_key), len(lv2_key), len(lv1_key), len(zodalraw)"
   ]
  },
  {
   "cell_type": "code",
   "execution_count": 520,
   "id": "e446d806",
   "metadata": {},
   "outputs": [
    {
     "data": {
      "text/plain": [
       "(21829, 21828)"
      ]
     },
     "execution_count": 520,
     "metadata": {},
     "output_type": "execute_result"
    }
   ],
   "source": [
    "len(lv5_idx2key), list(lv5_idx2key.keys())[-1]"
   ]
  },
  {
   "cell_type": "code",
   "execution_count": 539,
   "id": "ac04f2ff",
   "metadata": {
    "scrolled": false
   },
   "outputs": [
    {
     "name": "stderr",
     "output_type": "stream",
     "text": [
      "100%|████████████████████████████████████████████████████████| 21829/21829 [01:03<00:00, 342.05it/s]\n"
     ]
    }
   ],
   "source": [
    "lv3_key_copy = deepcopy(lv3_key)\n",
    "lv5_idx2lv3_key_tmp = {}\n",
    "for i in tqdm(range(len(lv5_idx2key)), total=len(lv5_idx2key)):\n",
    "    for k, v in lv3_key_copy.items():\n",
    "        if lv5_idx2key[i] == k:\n",
    "            if len(v) > 1:\n",
    "                lv5_idx2lv3_key_tmp[i]=v.pop(0)\n",
    "                lv3_key_copy[k]=v\n",
    "            elif len(v) == 1:\n",
    "                lv5_idx2lv3_key_tmp[i] = v[0]\n",
    "            continue"
   ]
  },
  {
   "cell_type": "code",
   "execution_count": 540,
   "id": "d24ac9b2",
   "metadata": {},
   "outputs": [],
   "source": [
    "error_list = list(set(range(21829)) - set(lv5_idx2lv3_key_tmp.keys()))"
   ]
  },
  {
   "cell_type": "code",
   "execution_count": 541,
   "id": "42c526bf",
   "metadata": {},
   "outputs": [
    {
     "data": {
      "text/plain": [
       "789"
      ]
     },
     "execution_count": 541,
     "metadata": {},
     "output_type": "execute_result"
    }
   ],
   "source": [
    "len(error_list)"
   ]
  },
  {
   "cell_type": "code",
   "execution_count": 542,
   "id": "e976e827",
   "metadata": {},
   "outputs": [
    {
     "name": "stderr",
     "output_type": "stream",
     "text": [
      "100%|█████████████████████████████████████████████████████████| 21829/21829 [37:51<00:00,  9.61it/s]\n"
     ]
    }
   ],
   "source": [
    "lv3_key_copy = deepcopy(lv3_key)\n",
    "lv5_idx2lv3_key = {}\n",
    "for i in tqdm(range(len(lv5_idx2key)), total=len(lv5_idx2key)):\n",
    "    for k, v in lv3_key_copy.items():\n",
    "        if lv5_idx2key[i] == k:\n",
    "            if len(v) > 1:\n",
    "                lv5_idx2lv3_key[i]=v.pop(0)\n",
    "                lv3_key_copy[k]=v\n",
    "            elif len(v) == 1:\n",
    "                lv5_idx2lv3_key[i] = v[0]\n",
    "            continue\n",
    "        elif i in error_list:\n",
    "            lv5_idx2lv3_key[i] = lv3_list[i]\n",
    "            continue"
   ]
  },
  {
   "cell_type": "code",
   "execution_count": 543,
   "id": "fca952d4",
   "metadata": {},
   "outputs": [
    {
     "data": {
      "text/plain": [
       "21829"
      ]
     },
     "execution_count": 543,
     "metadata": {},
     "output_type": "execute_result"
    }
   ],
   "source": [
    "len(lv5_idx2lv3_key)"
   ]
  },
  {
   "cell_type": "code",
   "execution_count": 544,
   "id": "6f225f21",
   "metadata": {},
   "outputs": [],
   "source": [
    "lv3_key2idx = {}\n",
    "for i, v in enumerate(list(set(lv5_idx2lv3_key.values()))):\n",
    "    lv3_key2idx[v]=i"
   ]
  },
  {
   "cell_type": "code",
   "execution_count": 545,
   "id": "a214c158",
   "metadata": {},
   "outputs": [],
   "source": [
    "lv5_idx2lv3_idx = {}\n",
    "for k, v in lv5_idx2lv3_key.items():\n",
    "    lv5_idx2lv3_idx[k]=lv3_key2idx[v]"
   ]
  },
  {
   "cell_type": "code",
   "execution_count": 546,
   "id": "af00f3ae",
   "metadata": {},
   "outputs": [],
   "source": [
    "lv3_label_idx = {}\n",
    "for i, v in lv5_label_idx.items():\n",
    "    lv3_label_idx[i] = [lv5_idx2lv3_idx[v]]"
   ]
  },
  {
   "cell_type": "code",
   "execution_count": 547,
   "id": "bd4c59ce",
   "metadata": {},
   "outputs": [],
   "source": [
    "with open(\"./lv5_idx2lv3_idx.json\", \"w\") as f:\n",
    "    json.dump(lv5_idx2lv3_idx, f)\n",
    "    \n",
    "with open(\"./lv5_idx2lv3_key.json\", \"w\") as f:\n",
    "    json.dump(lv5_idx2lv3_key, f)\n",
    "    \n",
    "with open(\"./lv3_label_idx.json\", \"w\") as f:\n",
    "    json.dump(lv3_label_idx, f)\n",
    "    \n",
    "with open(\"./lv3_key2idx.json\", \"w\") as f:\n",
    "    json.dump(lv3_key2idx, f)"
   ]
  },
  {
   "cell_type": "code",
   "execution_count": 548,
   "id": "5bbe9562",
   "metadata": {},
   "outputs": [
    {
     "name": "stderr",
     "output_type": "stream",
     "text": [
      "100%|████████████████████████████████████████████████████████| 21829/21829 [01:00<00:00, 360.47it/s]\n",
      "100%|█████████████████████████████████████████████████████████| 21829/21829 [35:12<00:00, 10.33it/s]\n"
     ]
    }
   ],
   "source": [
    "lv4_key_copy = deepcopy(lv4_key)\n",
    "lv5_idx2lv4_key_tmp = {}\n",
    "for i in tqdm(range(len(lv5_idx2key)), total=len(lv5_idx2key)):\n",
    "    for k, v in lv4_key_copy.items():\n",
    "        if lv5_idx2key[i] == k:\n",
    "            if len(v) > 1:\n",
    "                lv5_idx2lv4_key_tmp[i]=v.pop(0)\n",
    "                lv4_key_copy[k]=v\n",
    "            elif len(v) == 1:\n",
    "                lv5_idx2lv4_key_tmp[i] = v[0]\n",
    "            continue\n",
    "            \n",
    "error_list = list(set(range(21829)) - set(lv5_idx2lv4_key_tmp.keys()))\n",
    "\n",
    "lv4_key_copy = deepcopy(lv4_key)\n",
    "lv5_idx2lv4_key = {}\n",
    "for i in tqdm(range(len(lv5_idx2key)), total=len(lv5_idx2key)):\n",
    "    for k, v in lv4_key_copy.items():\n",
    "        if lv5_idx2key[i] == k:\n",
    "            if len(v) > 1:\n",
    "                lv5_idx2lv4_key[i]=v.pop(0)\n",
    "                lv4_key_copy[k]=v\n",
    "            elif len(v) == 1:\n",
    "                lv5_idx2lv4_key[i] = v[0]\n",
    "            continue\n",
    "        elif i in error_list:\n",
    "            lv5_idx2lv4_key[i] = lv4_list[i]\n",
    "            continue\n",
    "            \n",
    "lv4_key2idx = {}\n",
    "for i, v in enumerate(list(set(lv5_idx2lv4_key.values()))):\n",
    "    lv4_key2idx[v]=i\n",
    "    \n",
    "lv5_idx2lv4_idx = {}\n",
    "for k, v in lv5_idx2lv4_key.items():\n",
    "    lv5_idx2lv4_idx[k]=lv4_key2idx[v]\n",
    "    \n",
    "lv4_label_idx = {}\n",
    "for i, v in lv5_label_idx.items():\n",
    "    lv4_label_idx[i] = [lv5_idx2lv4_idx[v]]\n",
    "    \n",
    "with open(\"./lv5_idx2lv4_idx.json\", \"w\") as f:\n",
    "    json.dump(lv5_idx2lv4_idx, f)\n",
    "    \n",
    "with open(\"./lv5_idx2lv4_key.json\", \"w\") as f:\n",
    "    json.dump(lv5_idx2lv4_key, f)\n",
    "    \n",
    "with open(\"./lv4_label_idx.json\", \"w\") as f:\n",
    "    json.dump(lv4_label_idx, f)\n",
    "    \n",
    "with open(\"./lv4_key2idx.json\", \"w\") as f:\n",
    "    json.dump(lv4_key2idx, f)"
   ]
  },
  {
   "cell_type": "code",
   "execution_count": 620,
   "id": "2a3aa74f",
   "metadata": {},
   "outputs": [],
   "source": [
    "# lv5_label_idx = dict([(k,[v]) for k, v in lv5_label_idx.items()])"
   ]
  },
  {
   "cell_type": "code",
   "execution_count": 622,
   "id": "25d609be",
   "metadata": {},
   "outputs": [],
   "source": [
    "# with open(\"./lv5_label_idx.json\", \"w\") as f:\n",
    "#     json.dump(lv5_label_idx, f)"
   ]
  },
  {
   "cell_type": "code",
   "execution_count": 860,
   "id": "3ece2b7e",
   "metadata": {},
   "outputs": [
    {
     "data": {
      "text/plain": [
       "54"
      ]
     },
     "execution_count": 860,
     "metadata": {},
     "output_type": "execute_result"
    }
   ],
   "source": [
    "len(lv1_key2idx)"
   ]
  },
  {
   "cell_type": "code",
   "execution_count": 920,
   "id": "e5f1c6df",
   "metadata": {},
   "outputs": [
    {
     "name": "stdout",
     "output_type": "stream",
     "text": [
      "37 광업,석유및가스서비스\n",
      "54 조직및동호회\n"
     ]
    }
   ],
   "source": [
    "unscp_lv1 = json.load(open(\"./unspsc_lv1.json\"))\n",
    "\n",
    "unscp_lv1_label = {}\n",
    "for i, u in enumerate(unscp_lv1):\n",
    "    lab = u['output'].split(\"다음 물품 분류는 \")[-1].split(\"입니다.\")[0]\n",
    "    try:\n",
    "        unscp_lv1_label[lab] = lv1_key2idx[lab]\n",
    "    except:\n",
    "        print(i, lab)"
   ]
  },
  {
   "cell_type": "code",
   "execution_count": 921,
   "id": "0929289d",
   "metadata": {},
   "outputs": [],
   "source": [
    "_un_lv1_idx = list(set(range(55))-set([37, 54]))"
   ]
  },
  {
   "cell_type": "code",
   "execution_count": 922,
   "id": "e63b4c6d",
   "metadata": {},
   "outputs": [],
   "source": [
    "new_unscp_lv1 = []\n",
    "_lv1_un_idx = []\n",
    "for t, x in enumerate(unscp_lv1):\n",
    "    if t in _un_lv1_idx:\n",
    "        _lv1_un_idx.append(t)\n",
    "        new_unscp_lv1.append(x)"
   ]
  },
  {
   "cell_type": "code",
   "execution_count": 923,
   "id": "055e8327",
   "metadata": {},
   "outputs": [],
   "source": [
    "with open('./new_unscp_lv1.json', 'w') as f:\n",
    "    json.dump(new_unscp_lv1, f)"
   ]
  },
  {
   "cell_type": "code",
   "execution_count": 864,
   "id": "1b714e13",
   "metadata": {
    "scrolled": true
   },
   "outputs": [
    {
     "name": "stdout",
     "output_type": "stream",
     "text": [
      "37 광업,석유및가스서비스\n",
      "54 조직및동호회\n"
     ]
    }
   ],
   "source": [
    "zodal_lv1 = json.load(open('zodal_lv1.json'))\n",
    "\n",
    "zodal_lv1_label = {}\n",
    "for i, u in enumerate(zodal_lv1):\n",
    "    lab = u['output'].split(\"다음 물품 분류는 \")[-1].split(\"입니다.\")[0]\n",
    "    try:\n",
    "        zodal_lv1_label[lab] = lv1_key2idx[lab]\n",
    "    except:\n",
    "        print(i, lab)"
   ]
  },
  {
   "cell_type": "code",
   "execution_count": 865,
   "id": "50cf44f5",
   "metadata": {
    "scrolled": false
   },
   "outputs": [
    {
     "data": {
      "text/plain": [
       "dict_values([41, 20, 29, 3, 9, 13, 12, 11, 14, 16, 23, 25, 2, 32, 0, 48, 21, 52, 45, 40, 8, 5, 31, 33, 47, 34, 10, 1, 26, 42, 24, 30, 15, 36, 43, 7, 22, 38, 17, 37, 51, 39, 18, 46, 53, 27, 4, 35, 49, 6, 50, 19, 28, 44])"
      ]
     },
     "execution_count": 865,
     "metadata": {},
     "output_type": "execute_result"
    }
   ],
   "source": [
    "zodal_lv1_label.values()"
   ]
  },
  {
   "cell_type": "code",
   "execution_count": 927,
   "id": "d9d6e237",
   "metadata": {},
   "outputs": [],
   "source": [
    "zodal_lv1idx2lv1idx={}\n",
    "for i, v in enumerate(zodal_lv1_label.values()):\n",
    "    zodal_lv1idx2lv1idx[i]=v"
   ]
  },
  {
   "cell_type": "code",
   "execution_count": 928,
   "id": "07ff5fef",
   "metadata": {},
   "outputs": [],
   "source": [
    "unscp_lv1idx2lv1idx={}\n",
    "for i, v in enumerate(unscp_lv1_label.values()):\n",
    "    unscp_lv1idx2lv1idx[i]=v"
   ]
  },
  {
   "cell_type": "code",
   "execution_count": 930,
   "id": "49434886",
   "metadata": {},
   "outputs": [],
   "source": [
    "with open(\"./zodal_lv1idx2lv1idx.json\", \"w\") as f:\n",
    "    json.dump(zodal_lv1idx2lv1idx, f)\n",
    "    \n",
    "with open(\"./unscp_lv1idx2lv1idx.json\", \"w\") as f:\n",
    "    json.dump(unscp_lv1idx2lv1idx, f)"
   ]
  },
  {
   "cell_type": "code",
   "execution_count": 868,
   "id": "6b941ae9",
   "metadata": {},
   "outputs": [],
   "source": [
    "lv1key2lv5idx = defaultdict(list)\n",
    "lv1idx2lv5idx = defaultdict(list)\n",
    "\n",
    "for k, v in lv5_idx2lv1_key.items():\n",
    "    lv1key2lv5idx[v].append(k)\n",
    "    lv1idx2lv5idx[lv1_key2idx[v]].append(k)"
   ]
  },
  {
   "cell_type": "code",
   "execution_count": 869,
   "id": "5bcb4c0b",
   "metadata": {},
   "outputs": [],
   "source": [
    "# with open(\"./lv1idx2lv5idx.json\", \"w\") as f:\n",
    "#     json.dump(lv1idx2lv5idx, f)"
   ]
  },
  {
   "cell_type": "code",
   "execution_count": 870,
   "id": "7559d888",
   "metadata": {},
   "outputs": [],
   "source": [
    "lv2key2lv5idx = defaultdict(list)\n",
    "lv2idx2lv5idx = defaultdict(list)\n",
    "\n",
    "for k, v in lv5_idx2lv2_key.items():\n",
    "    lv2key2lv5idx[v].append(k)\n",
    "    lv2idx2lv5idx[lv2_key2idx[v]].append(k)"
   ]
  },
  {
   "cell_type": "code",
   "execution_count": 871,
   "id": "e319327c",
   "metadata": {},
   "outputs": [],
   "source": [
    "# emb_zodal_cat_lv1_max_leng_512_eos = torch.load(\"../../../kisti_output/emb_zodal_cat_lv1_max_leng_512_eos.pt\", map_location='cpu')\n",
    "# emb_zodal_cat_lv1_max_leng_512_masked = torch.load(\"../../../kisti_output/emb_zodal_cat_lv1_max_leng_512_masked.pt\", map_location='cpu')\n",
    "# emb_zodal_cat_lv1_max_leng_2048_eos = torch.load(\"../../../kisti_output/emb_zodal_cat_lv1_max_leng_2048_eos.pt\", map_location='cpu')\n",
    "# emb_zodal_cat_lv1_max_leng_2048_masked = torch.load(\"../../../kisti_output/emb_zodal_cat_lv1_max_leng_2048_masked.pt\", map_location='cpu')\n",
    "\n",
    "# _lv1_idx = list(set(range(56))-set([37, 54]))\n",
    "\n",
    "# emb_zodal_cat_lv1_max_leng_512_eos=emb_zodal_cat_lv1_max_leng_512_eos[_lv1_idx]\n",
    "# emb_zodal_cat_lv1_max_leng_512_masked=emb_zodal_cat_lv1_max_leng_512_masked[_lv1_idx]\n",
    "# emb_zodal_cat_lv1_max_leng_2048_eos=emb_zodal_cat_lv1_max_leng_2048_eos[_lv1_idx]\n",
    "# emb_zodal_cat_lv1_max_leng_2048_masked=emb_zodal_cat_lv1_max_leng_2048_masked[_lv1_idx]\n",
    "\n",
    "# torch.save(emb_zodal_cat_lv1_max_leng_512_eos, \"../../../kisti_output/emb_zodal_cat_lv1_max_leng_512_eos.pt\")\n",
    "# torch.save(emb_zodal_cat_lv1_max_leng_512_masked, \"../../../kisti_output/emb_zodal_cat_lv1_max_leng_512_masked.pt\")\n",
    "# torch.save(emb_zodal_cat_lv1_max_leng_2048_eos, \"../../../kisti_output/emb_zodal_cat_lv1_max_leng_2048_eos.pt\")\n",
    "# torch.save(emb_zodal_cat_lv1_max_leng_2048_masked, \"../../../kisti_output/emb_zodal_cat_lv1_max_leng_2048_masked.pt\")"
   ]
  },
  {
   "cell_type": "code",
   "execution_count": 889,
   "id": "562fbbe3",
   "metadata": {},
   "outputs": [],
   "source": [
    "# emb_unspsc_lv1_max_leng_512_eos = torch.load(\"../../../kisti_output/emb_unspsc_lv1_max_leng_512_eos.pt\", map_location='cpu')\n",
    "# emb_unspsc_lv1_max_leng_512_masked = torch.load(\"../../../kisti_output/emb_unspsc_lv1_max_leng_512_masked.pt\", map_location='cpu')\n",
    "# emb_unspsc_lv1_max_leng_2048_eos = torch.load(\"../../../kisti_output/emb_unspsc_lv1_max_leng_2048_eos.pt\", map_location='cpu')\n",
    "# emb_unspsc_lv1_max_leng_2048_masked = torch.load(\"../../../kisti_output/emb_unspsc_lv1_max_leng_2048_masked.pt\", map_location='cpu')\n",
    "\n",
    "# emb_unspsc_lv1_max_leng_512_eos=emb_unspsc_lv1_max_leng_512_eos[_un_lv1_idx]\n",
    "# emb_unspsc_lv1_max_leng_512_masked=emb_unspsc_lv1_max_leng_512_masked[_un_lv1_idx]\n",
    "# emb_unspsc_lv1_max_leng_2048_eos=emb_unspsc_lv1_max_leng_2048_eos[_un_lv1_idx]\n",
    "# emb_unspsc_lv1_max_leng_2048_masked=emb_unspsc_lv1_max_leng_2048_masked[_un_lv1_idx]\n",
    "\n",
    "# torch.save(emb_unspsc_lv1_max_leng_512_eos, \"../../../kisti_output/emb_unspsc_lv1_max_leng_512_eos.pt\")\n",
    "# torch.save(emb_unspsc_lv1_max_leng_512_masked, \"../../../kisti_output/emb_unspsc_lv1_max_leng_512_masked.pt\")\n",
    "# torch.save(emb_unspsc_lv1_max_leng_2048_eos, \"../../../kisti_output/emb_unspsc_lv1_max_leng_2048_eos.pt\")\n",
    "# torch.save(emb_unspsc_lv1_max_leng_2048_masked, \"../../../kisti_output/emb_unspsc_lv1_max_leng_2048_masked.pt\")"
   ]
  },
  {
   "cell_type": "code",
   "execution_count": 890,
   "id": "22ccd701",
   "metadata": {
    "scrolled": true
   },
   "outputs": [
    {
     "data": {
      "text/plain": [
       "(53, 53, 53, 53)"
      ]
     },
     "execution_count": 890,
     "metadata": {},
     "output_type": "execute_result"
    }
   ],
   "source": [
    "# len(emb_unspsc_lv1_max_leng_512_eos), len(emb_unspsc_lv1_max_leng_512_masked), len(emb_unspsc_lv1_max_leng_2048_eos), len(emb_unspsc_lv1_max_leng_2048_masked)"
   ]
  },
  {
   "cell_type": "code",
   "execution_count": 708,
   "id": "fb9e0291",
   "metadata": {
    "scrolled": true
   },
   "outputs": [
    {
     "name": "stdout",
     "output_type": "stream",
     "text": [
      "48 갱정굴착시공및유지보수업\n",
      "49 석유및가스시추생산증진서비스\n",
      "50 석유및가스데이터관리및가공서비스\n",
      "62 치료\n",
      "63 의료과학연구및실험\n",
      "64 대체의료및육체정신적의료\n",
      "65 식품영양업\n",
      "66 의료수술용기기유지개장및보수서비스\n"
     ]
    }
   ],
   "source": [
    "unscp_lv2 = json.load(open(\"./unspsc_lv2.json\"))\n",
    "\n",
    "unscp_lv2_label = {}\n",
    "un_fuxxk_labels = []\n",
    "un_fuxxk_idxs = []\n",
    "for i, u in enumerate(unscp_lv2):\n",
    "    lab = u['output'].split(\"다음 물품 분류는 \")[-1].split(\"입니다.\")[0]\n",
    "    try:\n",
    "        unscp_lv2_label[lab] = lv2_key2idx[lab]\n",
    "    except:\n",
    "        print(i, lab)\n",
    "        un_fuxxk_labels.append(lab)\n",
    "        un_fuxxk_idxs.append(i)"
   ]
  },
  {
   "cell_type": "code",
   "execution_count": 755,
   "id": "e917771b",
   "metadata": {
    "scrolled": true
   },
   "outputs": [],
   "source": [
    "lv2_label_key = {}\n",
    "for k, v in lv2_label_idx.items():\n",
    "    lv2_label_key[k]=lv2_idx2key[v[0]]"
   ]
  },
  {
   "cell_type": "code",
   "execution_count": 761,
   "id": "de607126",
   "metadata": {
    "collapsed": true
   },
   "outputs": [
    {
     "name": "stdout",
     "output_type": "stream",
     "text": [
      "248 토지관리및보호\n",
      "253 광업\n",
      "254 갱정굴착시공및유지보수업\n",
      "255 석유및가스시추생산증진서비스\n",
      "256 석유및가스데이터관리및가공서비스\n",
      "262 플라스틱및화학산업\n",
      "263 목재및제지산업\n",
      "264 금속및비금속광물산업\n",
      "265 식음료품산업\n",
      "266 섬유,직물산업\n",
      "270 기계제조및처리업\n",
      "290 무역정책및업\n",
      "296 경제학\n",
      "297 통계학\n",
      "306 공공사업\n",
      "307 원격통신매체서비스\n",
      "310 개발금융\n",
      "312 금융및투자\n",
      "314 신용조사기관\n",
      "317 치료\n",
      "318 의료과학연구및실험\n",
      "319 대체의료및육체정신적의료\n",
      "320 식품영양업\n",
      "321 의료수술용기기유지개장및보수서비스\n",
      "325 교육기관\n",
      "326 특수교육업\n",
      "332 상업용스포츠\n",
      "334 개인편의제공업\n",
      "338 정치체계및기구\n",
      "339 사회정치적양상\n",
      "340 국제관계\n",
      "341 인도주의적지원및구제\n",
      "344 조세\n",
      "345 직업관련조직\n",
      "346 종교조직\n",
      "347 클럽\n",
      "348 시민조직협회및운동\n"
     ]
    }
   ],
   "source": [
    "zodal_lv2 = json.load(open('zodal_lv2.json'))\n",
    "\n",
    "zodal_fuxxk_labels = []\n",
    "zodal_fuxxk_idxs = []\n",
    "\n",
    "t = 0\n",
    "zodal_lv2_key2idx = {}\n",
    "for i, u in enumerate(zodal_lv2):\n",
    "    lab = u['output'].split(\"다음 물품 분류는 \")[-1].split(\"입니다.\")[0]\n",
    "    try:\n",
    "        lv2_key2idx[lab]\n",
    "        zodal_lv2_key2idx[lab] = t\n",
    "        t+=1\n",
    "    except:\n",
    "        print(i, lab)\n",
    "        zodal_fuxxk_labels.append(lab)\n",
    "        zodal_fuxxk_idxs.append(i)"
   ]
  },
  {
   "cell_type": "code",
   "execution_count": 763,
   "id": "abd8c80d",
   "metadata": {},
   "outputs": [
    {
     "data": {
      "text/plain": [
       "387"
      ]
     },
     "execution_count": 763,
     "metadata": {},
     "output_type": "execute_result"
    }
   ],
   "source": [
    "len(zodal_lv2_key2idx)"
   ]
  },
  {
   "cell_type": "code",
   "execution_count": 772,
   "id": "4ffbad7b",
   "metadata": {},
   "outputs": [],
   "source": [
    "# for k in zodal_fuxxk_labels:\n",
    "#     try:\n",
    "#         print(lv2_key2idx[k])\n",
    "#     except:\n",
    "#         print(k)"
   ]
  },
  {
   "cell_type": "code",
   "execution_count": 773,
   "id": "0fe53601",
   "metadata": {},
   "outputs": [],
   "source": [
    "tmp = set()\n",
    "for k, v in lv2_label_idx.items():\n",
    "    tmp.add(lv2_idx2key[v[0]])"
   ]
  },
  {
   "cell_type": "code",
   "execution_count": 774,
   "id": "294e5237",
   "metadata": {},
   "outputs": [],
   "source": [
    "for t in tmp:\n",
    "    if t in un_fuxxk_labels:\n",
    "        print(t)"
   ]
  },
  {
   "cell_type": "code",
   "execution_count": 775,
   "id": "884f3042",
   "metadata": {},
   "outputs": [],
   "source": [
    "for t in tmp:\n",
    "    if t in zodal_fuxxk_labels:\n",
    "        print(t)"
   ]
  },
  {
   "cell_type": "code",
   "execution_count": 711,
   "id": "96c49386",
   "metadata": {},
   "outputs": [],
   "source": [
    "lv2key2lv5idx = defaultdict(list)\n",
    "lv2idx2lv5idx = defaultdict(list)\n",
    "\n",
    "for k, v in lv5_idx2lv2_key.items():\n",
    "    lv2key2lv5idx[v].append(k)\n",
    "    lv2idx2lv5idx[lv2_key2idx[v]].append(k)"
   ]
  },
  {
   "cell_type": "code",
   "execution_count": 803,
   "id": "c957ca7b",
   "metadata": {},
   "outputs": [],
   "source": [
    "emb_zodal_cat_lv2_max_leng_512_eos = torch.load(\"../../../kisti_output/emb_zodal_cat_lv2_max_leng_512_eos.pt\", map_location='cpu')\n",
    "emb_zodal_cat_lv2_max_leng_512_masked = torch.load(\"../../../kisti_output/emb_zodal_cat_lv2_max_leng_512_masked.pt\", map_location='cpu')\n",
    "emb_zodal_cat_lv2_max_leng_2048_eos = torch.load(\"../../../kisti_output/emb_zodal_cat_lv2_max_leng_2048_eos.pt\", map_location='cpu')\n",
    "emb_zodal_cat_lv2_max_leng_2048_masked = torch.load(\"../../../kisti_output/emb_zodal_cat_lv2_max_leng_2048_masked.pt\", map_location='cpu')"
   ]
  },
  {
   "cell_type": "code",
   "execution_count": 804,
   "id": "73bac26b",
   "metadata": {},
   "outputs": [
    {
     "data": {
      "text/plain": [
       "(424, 424, 424, 424)"
      ]
     },
     "execution_count": 804,
     "metadata": {},
     "output_type": "execute_result"
    }
   ],
   "source": [
    "len(emb_zodal_cat_lv2_max_leng_512_eos), len(emb_zodal_cat_lv2_max_leng_512_masked), len(emb_zodal_cat_lv2_max_leng_2048_eos), len(emb_zodal_cat_lv2_max_leng_2048_masked)"
   ]
  },
  {
   "cell_type": "code",
   "execution_count": 805,
   "id": "dd589eaa",
   "metadata": {},
   "outputs": [],
   "source": [
    "_lv2_idx = list(set(range(len(zodal_lv2)))-set(zodal_fuxxk_idxs))"
   ]
  },
  {
   "cell_type": "code",
   "execution_count": 806,
   "id": "f0016c57",
   "metadata": {},
   "outputs": [
    {
     "data": {
      "text/plain": [
       "387"
      ]
     },
     "execution_count": 806,
     "metadata": {},
     "output_type": "execute_result"
    }
   ],
   "source": [
    "len(_lv2_idx)"
   ]
  },
  {
   "cell_type": "code",
   "execution_count": 807,
   "id": "bea13984",
   "metadata": {},
   "outputs": [],
   "source": [
    "emb_zodal_cat_lv2_max_leng_512_eos=emb_zodal_cat_lv2_max_leng_512_eos[_lv2_idx]\n",
    "emb_zodal_cat_lv2_max_leng_512_masked=emb_zodal_cat_lv2_max_leng_512_masked[_lv2_idx]\n",
    "emb_zodal_cat_lv2_max_leng_2048_eos=emb_zodal_cat_lv2_max_leng_2048_eos[_lv2_idx]\n",
    "emb_zodal_cat_lv2_max_leng_2048_masked=emb_zodal_cat_lv2_max_leng_2048_masked[_lv2_idx]"
   ]
  },
  {
   "cell_type": "code",
   "execution_count": 808,
   "id": "91892701",
   "metadata": {
    "scrolled": true
   },
   "outputs": [
    {
     "data": {
      "text/plain": [
       "(387, 387, 387, 387)"
      ]
     },
     "execution_count": 808,
     "metadata": {},
     "output_type": "execute_result"
    }
   ],
   "source": [
    "len(emb_zodal_cat_lv2_max_leng_512_eos), len(emb_zodal_cat_lv2_max_leng_512_masked), len(emb_zodal_cat_lv2_max_leng_2048_eos), len(emb_zodal_cat_lv2_max_leng_2048_masked)"
   ]
  },
  {
   "cell_type": "code",
   "execution_count": null,
   "id": "b937d5a6",
   "metadata": {},
   "outputs": [],
   "source": [
    "torch.save(emb_zodal_cat_lv2_max_leng_512_eos, \"../../../kisti_output/emb_zodal_cat_lv2_max_leng_512_eos.pt\")\n",
    "torch.save(emb_zodal_cat_lv2_max_leng_512_masked, \"../../../kisti_output/emb_zodal_cat_lv2_max_leng_512_masked.pt\")\n",
    "torch.save(emb_zodal_cat_lv2_max_leng_2048_eos, \"../../../kisti_output/emb_zodal_cat_lv2_max_leng_2048_eos.pt\")\n",
    "torch.save(emb_zodal_cat_lv2_max_leng_2048_masked, \"../../../kisti_output/emb_zodal_cat_lv2_max_leng_2048_masked.pt\")"
   ]
  },
  {
   "cell_type": "code",
   "execution_count": 799,
   "id": "0f919688",
   "metadata": {},
   "outputs": [],
   "source": [
    "zodal_lv2_label_idx = {}\n",
    "for k, v in lv2_label_key.items():\n",
    "    zodal_lv2_label_idx[k]=zodal_lv2_key2idx[v]"
   ]
  },
  {
   "cell_type": "code",
   "execution_count": 810,
   "id": "d57a9e94",
   "metadata": {
    "scrolled": true
   },
   "outputs": [],
   "source": [
    "# with open(\"./zodal_lv2_label_idx.json\", \"w\") as f:\n",
    "#     json.dump(zodal_lv2_label_idx, f)"
   ]
  },
  {
   "cell_type": "code",
   "execution_count": 925,
   "id": "221367c0",
   "metadata": {},
   "outputs": [],
   "source": [
    "zodal_lv2idx2lv2idx = {}\n",
    "for k, i in zodal_lv2_key2idx.items():\n",
    "    zodal_lv2idx2lv2idx[i] = lv2_key2idx[k]"
   ]
  },
  {
   "cell_type": "code",
   "execution_count": 926,
   "id": "30a303a7",
   "metadata": {},
   "outputs": [],
   "source": [
    "# with open(\"./zodal_lv2idx2lv2idx.json\", \"w\") as f:\n",
    "#     json.dump(zodal_lv2idx2lv2idx, f)"
   ]
  },
  {
   "cell_type": "code",
   "execution_count": 821,
   "id": "0cf44f61",
   "metadata": {},
   "outputs": [],
   "source": [
    "lv1_key2lv2_key = defaultdict(set)\n",
    "lv1_idx2zodal_lv2_idx = defaultdict(set)\n",
    "\n",
    "for i, row in zodalraw.iterrows():\n",
    "    tmp2 = row['response'].split(\"중분류: \")[-1].split(\" 소분류:\")[0]\n",
    "    tmp1 = row['response'].split(\"대분류: \")[-1].split(\" 중분류:\")[0]\n",
    "    \n",
    "    lv1_key2lv2_key[tmp1].add(tmp2)\n",
    "    lv1_idx2zodal_lv2_idx[lv1_key2idx[tmp1]].add(zodal_lv2_key2idx[tmp2])"
   ]
  },
  {
   "cell_type": "code",
   "execution_count": 825,
   "id": "fa8346c7",
   "metadata": {},
   "outputs": [],
   "source": [
    "lv1_key2lv2_key = dict([(k,list(v)) for k, v in lv1_key2lv2_key.items()])"
   ]
  },
  {
   "cell_type": "code",
   "execution_count": 826,
   "id": "32b842cd",
   "metadata": {},
   "outputs": [],
   "source": [
    "lv1_idx2zodal_lv2_idx = dict([(k,list(v)) for k, v in lv1_idx2zodal_lv2_idx.items()])"
   ]
  },
  {
   "cell_type": "code",
   "execution_count": 827,
   "id": "cba7fcb9",
   "metadata": {},
   "outputs": [
    {
     "data": {
      "text/plain": [
       "{'산동식물및동식물성생산품': ['비료및식물영양제',\n",
       "  '마구류및마차용품',\n",
       "  '동물사료',\n",
       "  '산동물',\n",
       "  '종자및묘목',\n",
       "  '화훼재배및산림재배용나무',\n",
       "  '동물수용소및보관소',\n",
       "  '해충및소형동물방제제품',\n",
       "  '애완동물용품'],\n",
       " '광물,직물및비식용동식물자원': ['섬유및실제품',\n",
       "  '금속폐기물',\n",
       "  '비식용동물성산물',\n",
       "  '광물,광석및금속',\n",
       "  '토사석',\n",
       "  '직물및피혁재료',\n",
       "  '합금',\n",
       "  '산화금속',\n",
       "  '비식용식물및산림자원',\n",
       "  '폐기물'],\n",
       " '화학제품': ['착색제', '폭발물및기타장치', '첨가제', '왁스및오일', '용매', '화합물및혼합물', '원소및가스'],\n",
       " '수지,고무,탄성중합체': ['수지및로진', '고무및탄성중합체'],\n",
       " '종이원료및종이제품': ['종이제품', '산업용지', '종이원료'],\n",
       " '연료,연료첨가제,윤활유및방부식제': ['연료', '가스연료및첨가제', '윤활제,유류,그리스및방부식제'],\n",
       " '광산기계및액세서리': ['유류및가스시추탐사장비', '채광채석기계및장비', '유류가스공사및생산장비', '착정기및관련장비'],\n",
       " '농.수.임.축산용기계': ['농업용기계및임업용기계', '낚시및양식용장비'],\n",
       " '건축건설기계및보조용품': ['건설기계및중장비'],\n",
       " '산업용제조가공기계및액세서리': ['섬유및직물기계및액세서리',\n",
       "  '금속처리기계',\n",
       "  '피혁가공기계및장비',\n",
       "  '금속절단기계및액세서리',\n",
       "  '윤활및주유기기',\n",
       "  '원료가공기계',\n",
       "  '금속가공기기및부품',\n",
       "  '큰운송장비',\n",
       "  '계육가공기계및장비',\n",
       "  '용접연납땜및경납땜기계액세서리및용품',\n",
       "  '금속성형기계및액세서리',\n",
       "  '혼합기및액세서리',\n",
       "  '산업용가공기기장비및용품',\n",
       "  '쾌속조형기및엑세서리',\n",
       "  '산업용음식료품장비',\n",
       "  '제재벌채기계및장비',\n",
       "  '주조기계장비및용품',\n",
       "  '전자제조기계및장비및액세서리',\n",
       "  '연마가공기기및장비',\n",
       "  '특수산업기기및장비'],\n",
       " '물품취급,조정,저장기계,액세서리및소모품': ['컨테이너및저장소',\n",
       "  '산업용냉동및냉장기기',\n",
       "  '물품취급기계및장비',\n",
       "  '포장재료',\n",
       "  '포장보조용품'],\n",
       " '상용,군용,개인용운송기구및액세서리와부품': ['무동력자전거',\n",
       "  '운송지원장치',\n",
       "  '차량보디및트레일러',\n",
       "  '철도용경보및신호장비',\n",
       "  '운송기기부품',\n",
       "  '자동차',\n",
       "  '철로건설및보수용장비',\n",
       "  '철로자재',\n",
       "  '항공기',\n",
       "  '기관차및철도차량',\n",
       "  '기관차와철도차량구성품및부속품',\n",
       "  '항공기및우주선부품',\n",
       "  '해상운송'],\n",
       " '회전기기및경전기': ['전지,발전기및동력전달장치', '전선및케이블', '발전', '엔진및전동기', '원자및핵에너지기기'],\n",
       " '공구및범용기계': ['유압식기계및장비', '작업공구', '공기를이용한기계와장비', '자동차용특수용구'],\n",
       " '건자재': ['조립식건물',\n",
       "  '외장마감재',\n",
       "  '콘크리트,시멘트및플라스터',\n",
       "  '기본건축자재',\n",
       "  '이동식구조물',\n",
       "  '건축용블록벽돌및타일',\n",
       "  '단열재',\n",
       "  '창호및유리',\n",
       "  '건설및시설운용자재',\n",
       "  '도로포장및조경재',\n",
       "  '배관및위생도기류',\n",
       "  '영구구조물',\n",
       "  '구조재료',\n",
       "  '내장마감재'],\n",
       " '제조부품': ['철물',\n",
       "  '베어링,부싱,휠및기어',\n",
       "  '기압,수압,전기식제어장치',\n",
       "  '개스킷및실류',\n",
       "  '도장용품류',\n",
       "  '자석및자성재료',\n",
       "  '연마,광택및평활재',\n",
       "  '산업용광학기기',\n",
       "  '접착제및밀폐제',\n",
       "  '가공용금속재료',\n",
       "  '하우징,캐비닛및케이싱',\n",
       "  '로프,체인,선및끈',\n",
       "  '내화물'],\n",
       " '전자부품및소모품': ['이산반도체소자',\n",
       "  '전자관장치및액세서리',\n",
       "  '인쇄회로및집적회로및극소형조립회로',\n",
       "  '전자기기부품및액세서리',\n",
       "  '수동이산소자'],\n",
       " '전기시스템,조명,부품,액세서리및보조용품': ['전기장비및부품및용품',\n",
       "  '조명기구및액세서리',\n",
       "  '전선관리장치액세서리및용품',\n",
       "  '각종등및등부품'],\n",
       " '배관유체조절시스템장비및부품': ['산업용여과및정화장비',\n",
       "  '산업용펌프및압축기',\n",
       "  '관류및관이음자재',\n",
       "  '유체및기체분배장치',\n",
       "  '난방환기및순환용기기'],\n",
       " '실험실용실험,측정,관측및검사기기': ['실험실용실험기기', '측정,관찰및시험장치', '실험실습기자재'],\n",
       " '의료용기기': ['검진및경과모니터링제품',\n",
       "  '의료용옷및직물',\n",
       "  '정맥및동맥용투여제품',\n",
       "  '치과기기및용품',\n",
       "  '응급및병동의료서비스제품',\n",
       "  '장애인용자활보조기',\n",
       "  '의료설비제품',\n",
       "  '정형외과,보철및스포츠의약품',\n",
       "  '정형외과수술용임플란트',\n",
       "  '검시장비,영안실장비및용품',\n",
       "  '호흡,마취및심폐소생용제품',\n",
       "  '수술용제품',\n",
       "  '수의장비및용품',\n",
       "  '임상영양용품',\n",
       "  '혈액투석기기및용품',\n",
       "  '간병,간호제품및용품',\n",
       "  '물리치료,작업치료제품및재활제품',\n",
       "  '의료용영상진단및핵의학제품',\n",
       "  '의료용소독용품',\n",
       "  '의학실습및교육용품',\n",
       "  '환부처리제품'],\n",
       " '정보기술방송및통신기': ['데이터보이스또는멀티미디어네트워크장비또는플랫폼및액세서리',\n",
       "  '정보기술방송기기또는통신기기용부품',\n",
       "  '통신장치및액세서리',\n",
       "  '소프트웨어',\n",
       "  '컴퓨터장비및액세서리'],\n",
       " '사무용기기액세서리및용품': ['사무용품', '사무용및탁상용액세서리', '사무용기기용품및액세서리'],\n",
       " '인쇄,사진및시청각기기': ['인쇄및출판장비', '사진제작용품', '사진및기록용매체', '시청각시연장비', '사진장비'],\n",
       " '공공안전및치안장비': ['보안감시및탐지장비',\n",
       "  '로켓및서브시스템',\n",
       "  '특수교육용장비및부속품',\n",
       "  '치안장비',\n",
       "  '호신및보호장비',\n",
       "  '경무기및탄약',\n",
       "  '화재예방및진압장비',\n",
       "  '공공안전및통제장비',\n",
       "  '재래식전쟁무기'],\n",
       " '위생장비및용품': ['산업용세탁장비및드라이클리닝장비', '산업용청소장비', '상하수도공급및처리설비', '청소및위생용품'],\n",
       " '서비스업용기계장비및용품': ['종교용품및장례용품', '요식업용장비', '장례용품', '자동판매기', '도박또는내기장비'],\n",
       " '스포츠및레크리에이션장비용품및액세서리': ['운동장및놀이터시설물',\n",
       "  '스포츠장비및액세서리',\n",
       "  '필드및코트운동장비',\n",
       "  '수집품및상패',\n",
       "  '기타운동용품',\n",
       "  '캠핑용품및악세사리',\n",
       "  '겨울용스포츠장비',\n",
       "  '수중스포츠장비',\n",
       "  '헬스기구',\n",
       "  '낚시및사냥용품',\n",
       "  '체조및권투용장비',\n",
       "  '표적및테이블게임용구'],\n",
       " '식음료품및담배제품': ['통조림또는발효식품',\n",
       "  '빵및제과제품',\n",
       "  '해산물',\n",
       "  '곡물및콩류제품',\n",
       "  '초콜렛,설탕류,감미료및과자제품',\n",
       "  '음료',\n",
       "  '조미료및방부제',\n",
       "  '신선채소',\n",
       "  '담배,흡연제품및대용품',\n",
       "  '가공및보존처리식품',\n",
       "  '식용기름류및지방류',\n",
       "  '낙농제품및계란',\n",
       "  '건강보조식품및약용식품',\n",
       "  '육류',\n",
       "  '과일,야채및견과류'],\n",
       " '의약품': ['조직세포의기능용의약품',\n",
       "  '마약',\n",
       "  '치료를주목적으로하지않는의약품',\n",
       "  '기타약물',\n",
       "  '대사성의약품',\n",
       "  '신경계감각기관용의약품',\n",
       "  '개개의기관계용의약품',\n",
       "  '항병원생물성의약품'],\n",
       " '가정용품및가전제품': ['커튼및차양',\n",
       "  '가정용주방용품',\n",
       "  '바닥덮개',\n",
       "  '침구,탁자,주방용보및수건',\n",
       "  '가전기기',\n",
       "  '가정용실내벽걸이용품',\n",
       "  '가전제품'],\n",
       " '의류,가방및개인관리용품': ['의류', '가방,핸드백및유사제품', '바느질용품', '신발류', '개인관리용품'],\n",
       " '시계,보석및원석제품': ['보석류', '시계류'],\n",
       " '출판물': ['표지용품및보조품', '전자출판물', '인쇄매체'],\n",
       " '가구및관련제품': ['편의시설용가구', '교실,기관및공공시설가구및고정물', '업무용가구', '머천다이징용가구및액세서리'],\n",
       " '악기,게임,장난감,미술작품,공예품,교육용장비,교재,교육용품및교육용보조품': ['계발용,전문교습용보조기구,교재,교습용품및교습용보조품',\n",
       "  '미술장비,공예장비및보조품',\n",
       "  '악기,악기부품및보조품',\n",
       "  '장난감및게임',\n",
       "  '교실용품및장식품'],\n",
       " '농업,어업,임업및야생동물관련서비스': ['어업및양식업',\n",
       "  '수자원개발및감독',\n",
       "  '원예업',\n",
       "  '임업및관련업',\n",
       "  '축산및관련업',\n",
       "  '야생동식물',\n",
       "  '작물생산관리및보호'],\n",
       " '건물및시설물건설유지보수서비스': ['토목공사',\n",
       "  '건축공사',\n",
       "  '비주거용건물건설공사',\n",
       "  '건축,건축지원및유지보수용역',\n",
       "  '전문건설업및유지보수용역'],\n",
       " '공산품제조서비스': ['기계및운송장비제조', '제조업지원서비스', '전자제품및정밀제품산업'],\n",
       " '산업위생관련서비스': ['폐기물처리및처분', '오염물제거업', '독성물질및위험물질처리', '청소및경비업'],\n",
       " '환경관련서비스': ['환경관리', '오염물질추적,감시및회복', '환경보호', '오염물질추적,감시및회복업'],\n",
       " '운송과보관및우편관련서비스': ['운송장비유지보수서비스',\n",
       "  '여객수송',\n",
       "  '원료포장및취급',\n",
       "  '보관관련업',\n",
       "  '우편물및화물수송',\n",
       "  '운송운영업'],\n",
       " '경영관련서비스': ['국가행정서비스',\n",
       "  '인력공급서비스',\n",
       "  '부동산업',\n",
       "  '마케팅및유통',\n",
       "  '법률서비스',\n",
       "  '기업행정서비스',\n",
       "  '홍보및전문컨설팅서비스',\n",
       "  '경영자문'],\n",
       " '공학연구및기술기반서비스': ['컴퓨터업', '엔지니어링서비스', '지구과학서비스', '제조기술'],\n",
       " '편집디자인그래픽및예술관련서비스': ['그래픽디자인시각디자인', '광고', '전문예술가및공연가', '사진업', '복사업', '저작및번역'],\n",
       " '공공사업및공공부문관련서비스': ['정보업', '정보통신방송서비스'],\n",
       " '금융및보험서비스': ['회계및감사', '보험및퇴직서비스'],\n",
       " '보건서비스': ['포괄적건강서비스', '질병예방및통제', '장례지원서비스'],\n",
       " '교육및훈련서비스': ['대체교육시스템', '직업훈련', '교육편의시설'],\n",
       " '여행,음식,숙박및오락관련서비스': ['오락서비스', '음식점업', '여행편의제공서비스', '공연예술', '호텔,숙박및회의시설'],\n",
       " '개인및가정관련서비스': ['가정및개인지원'],\n",
       " '국방및치안관련서비스': ['공공질서및치안', '보안및개인치안'],\n",
       " '정치및행정서비스': ['공동체및사회서비스', '행정및재정서비스'],\n",
       " '융복합상품': ['전기, 가스, 증기 및 공기 조절 공급분야복합',\n",
       "  '숙박분야복합',\n",
       "  '비금속광물 광업분야복합',\n",
       "  '사업 지원 서비스분야복합',\n",
       "  '임대분야복합',\n",
       "  '폐기물 수집, 운반, 처리 및 원료 재생분야복합',\n",
       "  '고무 및 플라스틱제품 제조분야복합',\n",
       "  '금융 및 보험관련 서비스분야복합',\n",
       "  '육상 운송 및 파이프라인 운송분야복합',\n",
       "  '영상ㆍ오디오 기록물 제작 및 배급분야복합',\n",
       "  '기타 운송장비 제조분야복합',\n",
       "  '가구 제조분야복합',\n",
       "  '창작, 예술 및 여가관련 서비스분야복합',\n",
       "  '방송분야복합',\n",
       "  '석탄, 원유 및 천연가스 광업분야복합',\n",
       "  '부동산분야복합',\n",
       "  '공공 행정, 국방 및 사회보장 행정분야복합',\n",
       "  '목재 및 나무제품 제조분야복합',\n",
       "  '전문직별 공사분야복합',\n",
       "  '환경 정화 및 복원분야복합',\n",
       "  '임업분야복합',\n",
       "  '음료 제조분야복합',\n",
       "  '펄프, 종이 및 종이제품 제조분야복합',\n",
       "  '컴퓨터 프로그래밍, 시스템 통합 및 관리분야복합',\n",
       "  '수상 운송분야복합',\n",
       "  '협회 및 단체분야복합',\n",
       "  '담배 제조분야복합',\n",
       "  '하수, 폐수 및 분뇨 처리분야복합',\n",
       "  '의료, 정밀, 광학 기기 및 시계 제조분야복합',\n",
       "  '개인 및 소비용품 수리분야복합',\n",
       "  '의복, 의복 액세서리 및 모피제품 제조분야복합',\n",
       "  '전자 부품, 컴퓨터, 영상, 음향 및 통신장비 제조분야복합',\n",
       "  '사회복지 서비스분야복합',\n",
       "  '도매 및 상품 중개분야복합',\n",
       "  '정보서비스분야복합',\n",
       "  '1차 금속 제조분야복합',\n",
       "  '금속 광업분야복합',\n",
       "  '우편 및 통신분야복합',\n",
       "  '금속가공제품 제조분야복합',\n",
       "  '섬유제품 제조분야복합',\n",
       "  '광업 지원 서비스분야복합',\n",
       "  '음식점 및 주점분야복합',\n",
       "  '농업분야복합',\n",
       "  '보험 및 연금분야복합',\n",
       "  '전기장비 제조분야복합',\n",
       "  '의료용 물질 및 의약품 제조분야복합',\n",
       "  '교육 서비스분야복합',\n",
       "  '금융분야복합',\n",
       "  '사업시설 관리 및 조경 서비스분야복합',\n",
       "  '화학물질 및 화학제품 제조분야복합',\n",
       "  '스포츠 및 오락관련 서비스분야복합',\n",
       "  '수도분야복합',\n",
       "  '건축 기술, 엔지니어링 및 기타 과학기술 서비스분야복합',\n",
       "  '기타 개인 서비스분야복합',\n",
       "  '어업분야복합',\n",
       "  '출판분야복합',\n",
       "  '식료품 제조분야복합',\n",
       "  '연구개발분야복합',\n",
       "  '자동차 및 부품 판매분야복합',\n",
       "  '전문 서비스분야복합',\n",
       "  '보건분야복합',\n",
       "  '항공 운송분야복합',\n",
       "  '융복합상품',\n",
       "  '비금속 광물제품 제조분야복합',\n",
       "  '기타 전문, 과학 및 기술 서비스분야복합',\n",
       "  '인쇄 및 기록매체 복제분야복합',\n",
       "  '창고 및 운송관련 서비스분야복합',\n",
       "  '소매분야복합',\n",
       "  '코크스, 연탄 및 석유정제품 제조분야복합',\n",
       "  '자동차 및 트레일러 제조분야복합',\n",
       "  '산업용 기계 및 장비 수리분야복합',\n",
       "  '기타 제품 제조분야복합',\n",
       "  '종합 건설분야복합',\n",
       "  '기타 기계 및 장비 제조분야복합',\n",
       "  '가죽, 가방 및 신발 제조분야복합']}"
      ]
     },
     "execution_count": 827,
     "metadata": {},
     "output_type": "execute_result"
    }
   ],
   "source": [
    "lv1_key2lv2_key"
   ]
  },
  {
   "cell_type": "code",
   "execution_count": 838,
   "id": "968064c7",
   "metadata": {},
   "outputs": [],
   "source": [
    "# lv1_idx2zodal_lv2_idx\n",
    "# with open(\"./lv1_idx2zodal_lv2_idx.json\", \"w\") as f:\n",
    "#     json.dump(lv1_idx2zodal_lv2_idx, f)"
   ]
  },
  {
   "cell_type": "code",
   "execution_count": 830,
   "id": "96bd1e01",
   "metadata": {},
   "outputs": [],
   "source": [
    "zodal_lv2_can = {}\n",
    "for i, l in lv1_label_idx.items():\n",
    "    zodal_lv2_can[i]=lv1_idx2zodal_lv2_idx[l[0]]"
   ]
  },
  {
   "cell_type": "code",
   "execution_count": null,
   "id": "c76c9cfb",
   "metadata": {},
   "outputs": [],
   "source": []
  }
 ],
 "metadata": {
  "kernelspec": {
   "display_name": "llama2",
   "language": "python",
   "name": "llama2"
  },
  "language_info": {
   "codemirror_mode": {
    "name": "ipython",
    "version": 3
   },
   "file_extension": ".py",
   "mimetype": "text/x-python",
   "name": "python",
   "nbconvert_exporter": "python",
   "pygments_lexer": "ipython3",
   "version": "3.9.17"
  }
 },
 "nbformat": 4,
 "nbformat_minor": 5
}
