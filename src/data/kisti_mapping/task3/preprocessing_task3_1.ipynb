{
 "cells": [
  {
   "cell_type": "code",
   "execution_count": 1,
   "id": "6650d28e-4473-46c8-ab29-a6faf623eb40",
   "metadata": {},
   "outputs": [],
   "source": [
    "import json\n",
    "import pandas as pd\n",
    "import numpy as np\n",
    "from copy import deepcopy\n",
    "from tqdm import tqdm\n",
    "import torch\n",
    "from collections import defaultdict\n",
    "# pd.set_option('display.max_rows', None)"
   ]
  },
  {
   "cell_type": "code",
   "execution_count": 2,
   "id": "8a031af5-8950-4c42-a626-6968c558d9c9",
   "metadata": {},
   "outputs": [],
   "source": [
    "# task3 product 데이터와 조달청 카테고리 데이터 불러오기\n",
    "pro = json.load(open(\"./task3_product.json\"))\n",
    "cat = json.load(open(\"./zodal_cat.json\"))"
   ]
  },
  {
   "cell_type": "code",
   "execution_count": 3,
   "id": "827387c7",
   "metadata": {},
   "outputs": [],
   "source": [
    "lv5_prompt = []\n",
    "\n",
    "for i,d in enumerate(cat):\n",
    "    lv5_prompt.append(d['input'])"
   ]
  },
  {
   "cell_type": "markdown",
   "id": "259f5b4d-b44b-446a-b9bc-4f04592f3a28",
   "metadata": {},
   "source": [
    "### Lv 5 카테고리 중 중복 카테고리 제거 후 인덱싱 초기화"
   ]
  },
  {
   "cell_type": "code",
   "execution_count": 5,
   "id": "5ec28d4c",
   "metadata": {},
   "outputs": [],
   "source": [
    "lv5_prompt2idx = {}\n",
    "duple_lv5_prompt = {}\n",
    "\n",
    "t = 0\n",
    "for i, p in enumerate(lv5_prompt):\n",
    "    try:\n",
    "        lv5_prompt2idx[p]\n",
    "        duple_lv5_prompt[i]=p\n",
    "    except:\n",
    "        lv5_prompt2idx[p] = t\n",
    "        t += 1\n",
    "        pass"
   ]
  },
  {
   "cell_type": "code",
   "execution_count": 6,
   "id": "47267d10",
   "metadata": {},
   "outputs": [
    {
     "data": {
      "text/plain": [
       "{7436: '다음 물품 분류는 주사기, 영어로 Medication or vaccine syringes 입니다. 주사기의 상세설명은 다음과 같습니다. 의약품 등을 인체에 주입하는 데에 사용하는 플라스틱 멸균 주사기. [식약처분류:A54010.01]',\n",
       " 7544: '다음 물품 분류는 치과용아말감충전기, 영어로 Dental amalgam condenser 입니다. 치과용아말감충전기의 상세설명은 다음과 같습니다. 혼합된 아말감을 와동내에 압착 성형하는 기구. [식약처분류:A62040.01 치과용아말감충전기]',\n",
       " 7545: '다음 물품 분류는 치과용근관플러거, 영어로 Endodontic pulp canal pluggers 입니다. 치과용근관플러거의 상세설명은 다음과 같습니다. 원주형 또는 끝이 가는 작업부분을 갖고 횡단면이 원형이며 선단이 평탄한 치과용 기구. 근관에 충전물을 주로 축방향으로 충전하는 기구. [식약처분류:A62010.04 치과용근관플러거]',\n",
       " 8335: '다음 물품 분류는 의료용핸드피스, 영어로 Surgical drill handpieces 입니다. 의료용핸드피스의 상세설명은 다음과 같습니다. 인체 조직을 천자, 천공, 절삭하는 기구에 연결되는 손잡이 기구. [식약처분류:A55030.01 수동식재사용가능의료용핸드피스, A55030.02 수동식일회용의료용핸드피스, A55030.03 전동식의료용핸드피스]',\n",
       " 8596: '다음 물품 분류는 의료용충전기, 영어로 Medical fillers 입니다. 의료용충전기의 상세설명은 다음과 같습니다. 인체 내부에 각종 성형 충전재 등을 압착 성형하는 기구. 치과용은 여기에서 제외됨. [식약처분류:A62010.01 의료용충전기]',\n",
       " 10281: '다음 물품 분류는 에어다이브, 영어로 Air dive 입니다. 에어다이브의 상세설명은 다음과 같습니다. 위로 향하는 강한 바람 위에서 스카이다이빙 연습을 할 수 있는 장치.'}"
      ]
     },
     "execution_count": 6,
     "metadata": {},
     "output_type": "execute_result"
    }
   ],
   "source": [
    "duple_lv5_prompt"
   ]
  },
  {
   "cell_type": "code",
   "execution_count": 8,
   "id": "77890f83",
   "metadata": {},
   "outputs": [],
   "source": [
    "lv5_idx2prompt = {}\n",
    "for k, v in lv5_prompt2idx.items():\n",
    "    lv5_idx2prompt[v]=k"
   ]
  },
  {
   "cell_type": "code",
   "execution_count": 10,
   "id": "6a4b73c9",
   "metadata": {},
   "outputs": [],
   "source": [
    "drop_idx = [7436, 7544, 7545, 8335, 8596, 10281]"
   ]
  },
  {
   "cell_type": "code",
   "execution_count": 11,
   "id": "45ee7ded",
   "metadata": {},
   "outputs": [],
   "source": [
    "unique_prompt_idx = list(set(range(len(lv5_prompt)))-set(drop_idx))"
   ]
  },
  {
   "cell_type": "code",
   "execution_count": 14,
   "id": "4e342b4e",
   "metadata": {},
   "outputs": [],
   "source": [
    "new_cat = np.array(cat)[unique_prompt_idx].tolist()"
   ]
  },
  {
   "cell_type": "code",
   "execution_count": 16,
   "id": "7acc96b9",
   "metadata": {},
   "outputs": [],
   "source": [
    "lv5_prompt = []\n",
    "lv5_key = []\n",
    "lv5_prompt2idx = {}\n",
    "lv5_idx2key = {}\n",
    "for i,d in enumerate(new_cat):\n",
    "    lv5_prompt.append(d['input'])\n",
    "    lv5_key.append(d['output'].split(\"다음 물품 분류는 \")[-1].split(\",\")[0].split(\"입니다. \")[0])\n",
    "    lv5_prompt2idx[d['input']]=i\n",
    "    lv5_idx2key[i]=d['output'].split(\"다음 물품 분류는 \")[-1].split(\",\")[0].split(\"입니다. \")[0]"
   ]
  },
  {
   "cell_type": "code",
   "execution_count": 18,
   "id": "fdbb1da1",
   "metadata": {},
   "outputs": [],
   "source": [
    "lv5_idx2prompt = {}\n",
    "for k,v in lv5_prompt2idx.items():\n",
    "    lv5_idx2prompt[v]=k"
   ]
  },
  {
   "cell_type": "code",
   "execution_count": 19,
   "id": "ee4ef173",
   "metadata": {},
   "outputs": [
    {
     "data": {
      "text/plain": [
       "(21829, 21829, 21829, 21829, 21829)"
      ]
     },
     "execution_count": 19,
     "metadata": {},
     "output_type": "execute_result"
    }
   ],
   "source": [
    "len(lv5_prompt2idx), len(lv5_idx2prompt), len(lv5_prompt), len(lv5_key), len(lv5_idx2key)"
   ]
  },
  {
   "cell_type": "code",
   "execution_count": 21,
   "id": "7ccaea16",
   "metadata": {},
   "outputs": [],
   "source": [
    "# product 의 정답 label을 새로운 indexing 순서로 재설정\n",
    "lv5_label_prompt = []\n",
    "lv5_label_idx = {}\n",
    "for i, d in enumerate(pro):\n",
    "    lv5_label_prompt.append(d['output'])\n",
    "    lv5_label_idx[i]=lv5_prompt2idx[d['output']]"
   ]
  },
  {
   "cell_type": "markdown",
   "id": "93e0877a-6ef9-4292-950c-09e7a716ed75",
   "metadata": {},
   "source": [
    "### Category Embedding 중복 제거 후 재인덱싱"
   ]
  },
  {
   "cell_type": "code",
   "execution_count": 24,
   "id": "2683d25b",
   "metadata": {},
   "outputs": [],
   "source": [
    "emb_zodal_cat_max_leng_512_masked = torch.load(\"../../../kisti_output/emb_zodal_cat_max_leng_512_masked.pt\", map_location='cpu')\n",
    "emb_zodal_cat_max_leng_2048_masked = torch.load(\"../../../kisti_output/emb_zodal_cat_max_leng_2048_masked.pt\", map_location='cpu')\n",
    "emb_zodal_cat_max_leng_512_eos = torch.load(\"../../../kisti_output/emb_zodal_cat_max_leng_512_eos.pt\", map_location='cpu')\n",
    "emb_zodal_cat_max_leng_2048_eos = torch.load(\"../../../kisti_output/emb_zodal_cat_max_leng_2048_eos.pt\", map_location='cpu')"
   ]
  },
  {
   "cell_type": "code",
   "execution_count": 25,
   "id": "5c77073c",
   "metadata": {},
   "outputs": [
    {
     "name": "stdout",
     "output_type": "stream",
     "text": [
      "21829 21835 21829 21829\n"
     ]
    }
   ],
   "source": [
    "print(len(emb_zodal_cat_max_leng_512_masked), len(emb_zodal_cat_max_leng_2048_masked), len(emb_zodal_cat_max_leng_512_eos), len(emb_zodal_cat_max_leng_2048_eos))"
   ]
  },
  {
   "cell_type": "code",
   "execution_count": 26,
   "id": "385bb83c",
   "metadata": {},
   "outputs": [],
   "source": [
    "emb_zodal_cat_max_leng_512_masked = emb_zodal_cat_max_leng_512_masked[unique_prompt_idx]\n",
    "emb_zodal_cat_max_leng_2048_masked = emb_zodal_cat_max_leng_2048_masked[unique_prompt_idx]\n",
    "emb_zodal_cat_max_leng_512_eos = emb_zodal_cat_max_leng_512_eos[unique_prompt_idx]\n",
    "emb_zodal_cat_max_leng_2048_eos = emb_zodal_cat_max_leng_2048_eos[unique_prompt_idx]"
   ]
  },
  {
   "cell_type": "code",
   "execution_count": 27,
   "id": "2cf99076",
   "metadata": {},
   "outputs": [
    {
     "data": {
      "text/plain": [
       "(21829, 21829, 21829, 21829)"
      ]
     },
     "execution_count": 27,
     "metadata": {},
     "output_type": "execute_result"
    }
   ],
   "source": [
    "len(emb_zodal_cat_max_leng_512_masked), len(emb_zodal_cat_max_leng_2048_masked), len(emb_zodal_cat_max_leng_512_eos), len(emb_zodal_cat_max_leng_2048_eos)"
   ]
  },
  {
   "cell_type": "code",
   "execution_count": 28,
   "id": "08fd5922",
   "metadata": {},
   "outputs": [],
   "source": [
    "# torch.save(emb_zodal_cat_max_leng_512_masked, \"../../../kisti_output/emb_zodal_cat_max_leng_512_masked.pt\")\n",
    "torch.save(emb_zodal_cat_max_leng_2048_masked, \"../../../kisti_output/emb_zodal_cat_max_leng_2048_masked.pt\")\n",
    "# torch.save(emb_zodal_cat_max_leng_512_eos, \"../../../kisti_output/emb_zodal_cat_max_leng_512_eos.pt\")\n",
    "# torch.save(emb_zodal_cat_max_leng_2048_eos, \"../../../kisti_output/emb_zodal_cat_max_leng_2048_eos.pt\")"
   ]
  },
  {
   "cell_type": "code",
   "execution_count": 29,
   "id": "097dfe76",
   "metadata": {},
   "outputs": [
    {
     "name": "stdout",
     "output_type": "stream",
     "text": [
      "21829 21829 21829 21829\n"
     ]
    }
   ],
   "source": [
    "zs_emb_zodal_cat_max_leng_512_masked = torch.load(\"../../../kisti_output/zs/emb_zodal_cat_max_leng_512_masked.pt\", map_location='cpu')\n",
    "zs_emb_zodal_cat_max_leng_2048_masked = torch.load(\"../../../kisti_output/zs/emb_zodal_cat_max_leng_2048_masked.pt\", map_location='cpu')\n",
    "zs_emb_zodal_cat_max_leng_512_eos = torch.load(\"../../../kisti_output/zs/emb_zodal_cat_max_leng_512_eos.pt\", map_location='cpu')\n",
    "zs_emb_zodal_cat_max_leng_2048_eos = torch.load(\"../../../kisti_output/zs/emb_zodal_cat_max_leng_2048_eos.pt\", map_location='cpu')\n",
    "\n",
    "print(len(zs_emb_zodal_cat_max_leng_512_masked), len(zs_emb_zodal_cat_max_leng_2048_masked), len(zs_emb_zodal_cat_max_leng_512_eos), len(zs_emb_zodal_cat_max_leng_2048_eos))"
   ]
  },
  {
   "cell_type": "code",
   "execution_count": null,
   "id": "b4aa355f",
   "metadata": {},
   "outputs": [],
   "source": [
    "zs_emb_zodal_cat_max_leng_512_masked = zs_emb_zodal_cat_max_leng_512_masked[unique_prompt_idx]\n",
    "zs_emb_zodal_cat_max_leng_2048_masked = zs_emb_zodal_cat_max_leng_2048_masked[unique_prompt_idx]\n",
    "zs_emb_zodal_cat_max_leng_512_eos = zs_emb_zodal_cat_max_leng_512_eos[unique_prompt_idx]\n",
    "zs_emb_zodal_cat_max_leng_2048_eos = zs_emb_zodal_cat_max_leng_2048_eos[unique_prompt_idx]\n",
    "\n",
    "print(len(zs_emb_zodal_cat_max_leng_512_masked), len(zs_emb_zodal_cat_max_leng_2048_masked), len(zs_emb_zodal_cat_max_leng_512_eos), len(zs_emb_zodal_cat_max_leng_2048_eos))"
   ]
  },
  {
   "cell_type": "code",
   "execution_count": null,
   "id": "fea5dcc1",
   "metadata": {},
   "outputs": [],
   "source": [
    "torch.save(zs_emb_zodal_cat_max_leng_512_masked, \"../../../kisti_output/zs/emb_zodal_cat_max_leng_512_masked.pt\")\n",
    "torch.save(zs_emb_zodal_cat_max_leng_2048_masked, \"../../../kisti_output/zs/emb_zodal_cat_max_leng_2048_masked.pt\")\n",
    "torch.save(zs_emb_zodal_cat_max_leng_512_eos, \"../../../kisti_output/zs/emb_zodal_cat_max_leng_512_eos.pt\")\n",
    "torch.save(zs_emb_zodal_cat_max_leng_2048_eos, \"../../../kisti_output/zs/emb_zodal_cat_max_leng_2048_eos.pt\")"
   ]
  },
  {
   "cell_type": "markdown",
   "id": "20aa3dda-56f7-49eb-acdc-0f4f4bd0dbdd",
   "metadata": {},
   "source": [
    "### Level 1-4 label 추출 후 Level 5 label과 대응."
   ]
  },
  {
   "cell_type": "code",
   "execution_count": null,
   "id": "0f5e8378",
   "metadata": {},
   "outputs": [],
   "source": [
    "zodalraw = pd.read_csv(\"./zodal_raw.csv\")\n",
    "zodalraw = zodalraw.iloc[unique_prompt_idx].reindex()\n",
    "len(zodalraw)"
   ]
  },
  {
   "cell_type": "code",
   "execution_count": null,
   "id": "8c29630a",
   "metadata": {},
   "outputs": [],
   "source": [
    "lv4_key, lv3_key, lv2_key, lv1_key = defaultdict(list), defaultdict(list), defaultdict(list), defaultdict(list)\n",
    "lv4_list, lv3_list, lv2_list, lv1_list = [], [], [], []\n",
    "duple_raw = defaultdict(int)\n",
    "for i, row in zodalraw.iterrows():\n",
    "    duple_raw[row[\"context\"].split(\"분류체계는 \")[-1].split(\"입니다\")[0]] += 1\n",
    "    \n",
    "    lv4_key[row[\"context\"].split(\"분류체계는 \")[-1].split(\"입니다\")[0]].append(row[\"response\"].split(\"품명: \")[-1])\n",
    "    lv4_list.append(row[\"response\"].split(\"품명: \")[-1])\n",
    "    \n",
    "    lv3_key[row[\"context\"].split(\"분류체계는 \")[-1].split(\"입니다\")[0]].append(row['response'].split(\"소분류: \")[-1].split(\" 품명:\")[0])\n",
    "    lv3_list.append(row['response'].split(\"소분류: \")[-1].split(\" 품명:\")[0])\n",
    "    \n",
    "    lv2_key[row[\"context\"].split(\"분류체계는 \")[-1].split(\"입니다\")[0]].append(row['response'].split(\"중분류: \")[-1].split(\" 소분류:\")[0])\n",
    "    lv2_list.append(row['response'].split(\"중분류: \")[-1].split(\" 소분류:\")[0])\n",
    "    \n",
    "    lv1_key[row[\"context\"].split(\"분류체계는 \")[-1].split(\"입니다\")[0]].append(row['response'].split(\"대분류: \")[-1].split(\" 중분류:\")[0])\n",
    "    lv1_list.append(row['response'].split(\"대분류: \")[-1].split(\" 중분류:\")[0])"
   ]
  },
  {
   "cell_type": "code",
   "execution_count": null,
   "id": "46bb9ccf",
   "metadata": {},
   "outputs": [],
   "source": [
    "len(lv4_key), len(lv3_key), len(lv2_key), len(lv1_key), len(zodalraw)"
   ]
  },
  {
   "cell_type": "code",
   "execution_count": null,
   "id": "5bbe9562",
   "metadata": {
    "scrolled": true
   },
   "outputs": [],
   "source": [
    "# Lv 4\n",
    "lv4_key_copy = deepcopy(lv4_key)\n",
    "lv5_idx2lv4_key_tmp = {}\n",
    "for i in tqdm(range(len(lv5_idx2key)), total=len(lv5_idx2key)):\n",
    "    for k, v in lv4_key_copy.items():\n",
    "        if lv5_idx2key[i] == k:\n",
    "            if len(v) > 1:\n",
    "                lv5_idx2lv4_key_tmp[i]=v.pop(0)\n",
    "                lv4_key_copy[k]=v\n",
    "            elif len(v) == 1:\n",
    "                lv5_idx2lv4_key_tmp[i] = v[0]\n",
    "            continue\n",
    "            \n",
    "error_list = list(set(range(21829)) - set(lv5_idx2lv4_key_tmp.keys()))\n",
    "\n",
    "lv4_key_copy = deepcopy(lv4_key)\n",
    "lv5_idx2lv4_key = {}\n",
    "for i in tqdm(range(len(lv5_idx2key)), total=len(lv5_idx2key)):\n",
    "    for k, v in lv4_key_copy.items():\n",
    "        if lv5_idx2key[i] == k:\n",
    "            if len(v) > 1:\n",
    "                lv5_idx2lv4_key[i]=v.pop(0)\n",
    "                lv4_key_copy[k]=v\n",
    "            elif len(v) == 1:\n",
    "                lv5_idx2lv4_key[i] = v[0]\n",
    "            continue\n",
    "        elif i in error_list:\n",
    "            lv5_idx2lv4_key[i] = lv4_list[i]\n",
    "            continue\n",
    "            \n",
    "lv4_key2idx = {}\n",
    "for i, v in enumerate(list(set(lv5_idx2lv4_key.values()))):\n",
    "    lv4_key2idx[v]=i\n",
    "    \n",
    "lv5_idx2lv4_idx = {}\n",
    "for k, v in lv5_idx2lv4_key.items():\n",
    "    lv5_idx2lv4_idx[k]=lv4_key2idx[v]\n",
    "    \n",
    "lv4_label_idx = {}\n",
    "for i, v in lv5_label_idx.items():\n",
    "    lv4_label_idx[i] = [lv5_idx2lv4_idx[v]]\n",
    "    \n",
    "with open(\"./lv5_idx2lv4_idx.json\", \"w\") as f:\n",
    "    json.dump(lv5_idx2lv4_idx, f)\n",
    "    \n",
    "with open(\"./lv5_idx2lv4_key.json\", \"w\") as f:\n",
    "    json.dump(lv5_idx2lv4_key, f)\n",
    "    \n",
    "with open(\"./lv4_label_idx.json\", \"w\") as f:\n",
    "    json.dump(lv4_label_idx, f)\n",
    "    \n",
    "with open(\"./lv4_key2idx.json\", \"w\") as f:\n",
    "    json.dump(lv4_key2idx, f)"
   ]
  },
  {
   "cell_type": "code",
   "execution_count": null,
   "id": "e5b5bbd6",
   "metadata": {},
   "outputs": [],
   "source": [
    "len(lv5_idx2lv4_idx), len(lv5_idx2lv4_key), len(lv4_label_idx), len(lv4_key2idx)"
   ]
  },
  {
   "cell_type": "code",
   "execution_count": null,
   "id": "d195e9b0",
   "metadata": {
    "scrolled": true
   },
   "outputs": [],
   "source": [
    "# LV 3\n",
    "lv3_key_copy = deepcopy(lv3_key)\n",
    "lv5_idx2lv3_key_tmp = {}\n",
    "for i in tqdm(range(len(lv5_idx2key)), total=len(lv5_idx2key)):\n",
    "    for k, v in lv3_key_copy.items():\n",
    "        if lv5_idx2key[i] == k:\n",
    "            if len(v) > 1:\n",
    "                lv5_idx2lv3_key_tmp[i]=v.pop(0)\n",
    "                lv3_key_copy[k]=v\n",
    "            elif len(v) == 1:\n",
    "                lv5_idx2lv3_key_tmp[i] = v[0]\n",
    "            continue\n",
    "            \n",
    "error_list = list(set(range(21829)) - set(lv5_idx2lv3_key_tmp.keys()))\n",
    "\n",
    "lv3_key_copy = deepcopy(lv3_key)\n",
    "lv5_idx2lv3_key = {}\n",
    "for i in tqdm(range(len(lv5_idx2key)), total=len(lv5_idx2key)):\n",
    "    for k, v in lv3_key_copy.items():\n",
    "        if lv5_idx2key[i] == k:\n",
    "            if len(v) > 1:\n",
    "                lv5_idx2lv3_key[i]=v.pop(0)\n",
    "                lv3_key_copy[k]=v\n",
    "            elif len(v) == 1:\n",
    "                lv5_idx2lv3_key[i] = v[0]\n",
    "            continue\n",
    "        elif i in error_list:\n",
    "            lv5_idx2lv3_key[i] = lv3_list[i]\n",
    "            continue\n",
    "            \n",
    "lv3_key2idx = {}\n",
    "for i, v in enumerate(list(set(lv5_idx2lv3_key.values()))):\n",
    "    lv3_key2idx[v]=i\n",
    "    \n",
    "lv5_idx2lv3_idx = {}\n",
    "for k, v in lv5_idx2lv3_key.items():\n",
    "    lv5_idx2lv3_idx[k]=lv3_key2idx[v]\n",
    "    \n",
    "lv3_label_idx = {}\n",
    "for i, v in lv5_label_idx.items():\n",
    "    lv3_label_idx[i] = [lv5_idx2lv3_idx[v]]\n",
    "    \n",
    "with open(\"./lv5_idx2lv3_idx.json\", \"w\") as f:\n",
    "    json.dump(lv5_idx2lv3_idx, f)\n",
    "    \n",
    "with open(\"./lv5_idx2lv3_key.json\", \"w\") as f:\n",
    "    json.dump(lv5_idx2lv3_key, f)\n",
    "    \n",
    "with open(\"./lv3_label_idx.json\", \"w\") as f:\n",
    "    json.dump(lv3_label_idx, f)\n",
    "    \n",
    "with open(\"./lv3_key2idx.json\", \"w\") as f:\n",
    "    json.dump(lv3_key2idx, f)"
   ]
  },
  {
   "cell_type": "code",
   "execution_count": null,
   "id": "9ddfc0f3",
   "metadata": {},
   "outputs": [],
   "source": [
    "len(lv5_idx2lv3_idx), len(lv5_idx2lv3_key), len(lv3_label_idx), len(lv3_key2idx)"
   ]
  },
  {
   "cell_type": "code",
   "execution_count": null,
   "id": "ff776e9e",
   "metadata": {},
   "outputs": [],
   "source": [
    "# LV 2\n",
    "lv2_key_copy = deepcopy(lv2_key)\n",
    "lv5_idx2lv2_key_tmp = {}\n",
    "for i in tqdm(range(len(lv5_idx2key)), total=len(lv5_idx2key)):\n",
    "    for k, v in lv2_key_copy.items():\n",
    "        if lv5_idx2key[i] == k:\n",
    "            if len(v) > 1:\n",
    "                lv5_idx2lv2_key_tmp[i]=v.pop(0)\n",
    "                lv2_key_copy[k]=v\n",
    "            elif len(v) == 1:\n",
    "                lv5_idx2lv2_key_tmp[i] = v[0]\n",
    "            continue\n",
    "\n",
    "error_list = list(set(range(21829)) - set(lv5_idx2lv2_key_tmp.keys()))\n",
    "\n",
    "lv2_key_copy = deepcopy(lv2_key)\n",
    "lv5_idx2lv2_key = {}\n",
    "for i in tqdm(range(len(lv5_idx2key)), total=len(lv5_idx2key)):\n",
    "    for k, v in lv2_key_copy.items():\n",
    "        if lv5_idx2key[i] == k:\n",
    "            if len(v) > 1:\n",
    "                lv5_idx2lv2_key[i]=v.pop(0)\n",
    "                lv2_key_copy[k]=v\n",
    "            elif len(v) == 1:\n",
    "                lv5_idx2lv2_key[i] = v[0]\n",
    "            continue\n",
    "        elif i in error_list:\n",
    "            lv5_idx2lv2_key[i] = lv2_list[i]\n",
    "            continue\n",
    "\n",
    "lv2_key2idx = {}\n",
    "for i, v in enumerate(list(set(lv5_idx2lv2_key.values()))):\n",
    "    lv2_key2idx[v]=i\n",
    "    \n",
    "lv5_idx2lv2_idx = {}\n",
    "for k, v in lv5_idx2lv2_key.items():\n",
    "    lv5_idx2lv2_idx[k]=lv2_key2idx[v]\n",
    "    \n",
    "lv2_label_idx = {}\n",
    "for i, v in lv5_label_idx.items():\n",
    "    lv2_label_idx[i] = [lv5_idx2lv2_idx[v]]\n",
    "    \n",
    "with open(\"./lv5_idx2lv2_idx.json\", \"w\") as f:\n",
    "    json.dump(lv5_idx2lv2_idx, f)\n",
    "    \n",
    "with open(\"./lv5_idx2lv2_key.json\", \"w\") as f:\n",
    "    json.dump(lv5_idx2lv2_key, f)\n",
    "    \n",
    "with open(\"./lv2_label_idx.json\", \"w\") as f:\n",
    "    json.dump(lv2_label_idx, f)\n",
    "    \n",
    "with open(\"./lv2_key2idx.json\", \"w\") as f:\n",
    "    json.dump(lv2_key2idx, f)"
   ]
  },
  {
   "cell_type": "code",
   "execution_count": null,
   "id": "fc152c3f-84b9-478f-92f6-d262d947030f",
   "metadata": {},
   "outputs": [],
   "source": [
    "len(lv5_idx2lv2_idx), len(lv5_idx2lv2_key), len(lv2_label_idx), len(lv2_key2idx)"
   ]
  },
  {
   "cell_type": "code",
   "execution_count": null,
   "id": "5fc8fd49-ee11-4615-af72-ac06b274dd46",
   "metadata": {},
   "outputs": [],
   "source": [
    "# Lv 1\n",
    "lv1_key_copy = deepcopy(lv1_key)\n",
    "lv5_idx2lv1_key_tmp = {}\n",
    "for i in tqdm(range(len(lv5_idx2key)), total=len(lv5_idx2key)):\n",
    "    for k, v in lv1_key_copy.items():\n",
    "        if lv5_idx2key[i] == k:\n",
    "            if len(v) > 1:\n",
    "                lv5_idx2lv1_key_tmp[i]=v.pop(0)\n",
    "                lv1_key_copy[k]=v\n",
    "            elif len(v) == 1:\n",
    "                lv5_idx2lv1_key_tmp[i] = v[0]\n",
    "            continue\n",
    "            \n",
    "error_list = list(set(range(21829)) - set(lv5_idx2lv1_key_tmp.keys()))\n",
    "\n",
    "lv1_key_copy = deepcopy(lv1_key)\n",
    "lv5_idx2lv1_key = {}\n",
    "for i in tqdm(range(len(lv5_idx2key)), total=len(lv5_idx2key)):\n",
    "    for k, v in lv1_key_copy.items():\n",
    "        if lv5_idx2key[i] == k:\n",
    "            if len(v) > 1:\n",
    "                lv5_idx2lv1_key[i]=v.pop(0)\n",
    "                lv1_key_copy[k]=v\n",
    "            elif len(v) == 1:\n",
    "                lv5_idx2lv1_key[i] = v[0]\n",
    "            continue\n",
    "        elif i in error_list:\n",
    "            lv5_idx2lv1_key[i] = lv1_list[i]\n",
    "            continue\n",
    "            \n",
    "lv1_key2idx = {}\n",
    "for i, v in enumerate(list(set(lv5_idx2lv1_key.values()))):\n",
    "    lv1_key2idx[v]=i\n",
    "    \n",
    "lv5_idx2lv1_idx = {}\n",
    "for k, v in lv5_idx2lv1_key.items():\n",
    "    lv5_idx2lv1_idx[k]=lv1_key2idx[v]\n",
    "    \n",
    "lv1_label_idx = {}\n",
    "for i, v in lv5_label_idx.items():\n",
    "    lv1_label_idx[i] = [lv5_idx2lv1_idx[v]]\n",
    "    \n",
    "with open(\"./lv5_idx2lv1_idx.json\", \"w\") as f:\n",
    "    json.dump(lv5_idx2lv1_idx, f)\n",
    "    \n",
    "with open(\"./lv5_idx2lv1_key.json\", \"w\") as f:\n",
    "    json.dump(lv5_idx2lv1_key, f)\n",
    "    \n",
    "with open(\"./lv1_label_idx.json\", \"w\") as f:\n",
    "    json.dump(lv1_label_idx, f)\n",
    "    \n",
    "with open(\"./lv1_key2idx.json\", \"w\") as f:\n",
    "    json.dump(lv1_key2idx, f)"
   ]
  },
  {
   "cell_type": "code",
   "execution_count": null,
   "id": "224dfce7-e201-43df-a75b-0d1d9c40ece5",
   "metadata": {},
   "outputs": [],
   "source": [
    "len(lv5_idx2lv1_idx), len(lv5_idx2lv1_key), len(lv1_label_idx), len(lv1_key2idx)"
   ]
  },
  {
   "cell_type": "code",
   "execution_count": null,
   "id": "2a3aa74f",
   "metadata": {},
   "outputs": [],
   "source": [
    "lv5_label_idx = dict([(k,[v]) for k, v in lv5_label_idx.items()])"
   ]
  },
  {
   "cell_type": "code",
   "execution_count": null,
   "id": "25d609be",
   "metadata": {},
   "outputs": [],
   "source": [
    "with open(\"./lv5_label_idx.json\", \"w\") as f:\n",
    "    json.dump(lv5_label_idx, f)"
   ]
  },
  {
   "cell_type": "markdown",
   "id": "35845cb3-3c9b-4110-8950-7b56b7bae9c6",
   "metadata": {},
   "source": [
    "### UNSPSC Level 1 데이터구축"
   ]
  },
  {
   "cell_type": "code",
   "execution_count": null,
   "id": "e5f1c6df",
   "metadata": {},
   "outputs": [],
   "source": [
    "unscp_lv1 = json.load(open(\"./unspsc_lv1.json\"))\n",
    "\n",
    "unscp_lv1_label = {}\n",
    "for i, u in enumerate(unscp_lv1):\n",
    "    lab = u['output'].split(\"다음 물품 분류는 \")[-1].split(\"입니다.\")[0]\n",
    "    try:\n",
    "        unscp_lv1_label[lab] = lv1_key2idx[lab]\n",
    "    except:\n",
    "        print(i, lab)"
   ]
  },
  {
   "cell_type": "code",
   "execution_count": null,
   "id": "71770179",
   "metadata": {},
   "outputs": [],
   "source": [
    "len(unscp_lv1)"
   ]
  },
  {
   "cell_type": "code",
   "execution_count": null,
   "id": "0929289d",
   "metadata": {},
   "outputs": [],
   "source": [
    "_un_lv1_idx = list(set(range(55))-set([37, 54]))"
   ]
  },
  {
   "cell_type": "code",
   "execution_count": null,
   "id": "e63b4c6d",
   "metadata": {},
   "outputs": [],
   "source": [
    "new_unscp_lv1 = []\n",
    "_lv1_un_idx = []\n",
    "for t, x in enumerate(unscp_lv1):\n",
    "    if t in _un_lv1_idx:\n",
    "        _lv1_un_idx.append(t)\n",
    "        new_unscp_lv1.append(x)"
   ]
  },
  {
   "cell_type": "code",
   "execution_count": null,
   "id": "01da8d94",
   "metadata": {},
   "outputs": [],
   "source": [
    "len(new_unscp_lv1)"
   ]
  },
  {
   "cell_type": "code",
   "execution_count": null,
   "id": "055e8327",
   "metadata": {},
   "outputs": [],
   "source": [
    "with open('./new_unscp_lv1.json', 'w') as f:\n",
    "    json.dump(new_unscp_lv1, f)"
   ]
  },
  {
   "cell_type": "markdown",
   "id": "12d1ed21-372a-42b0-a3e5-753b31ec1e82",
   "metadata": {},
   "source": [
    "### 국문 조달청 카테고리 데이터 Level 1 데이터 구축"
   ]
  },
  {
   "cell_type": "code",
   "execution_count": null,
   "id": "1b714e13",
   "metadata": {
    "scrolled": true
   },
   "outputs": [],
   "source": [
    "zodal_lv1 = json.load(open('zodal_lv1.json'))\n",
    "new_zodal_lv1 = []\n",
    "\n",
    "zodal_lv1_label = {}\n",
    "for i, u in enumerate(zodal_lv1):\n",
    "    lab = u['output'].split(\"다음 물품 분류는 \")[-1].split(\"입니다.\")[0]\n",
    "    try:\n",
    "        zodal_lv1_label[lab] = lv1_key2idx[lab]\n",
    "        new_zodal_lv1.append(u)\n",
    "    except:\n",
    "        print(i, lab)"
   ]
  },
  {
   "cell_type": "code",
   "execution_count": null,
   "id": "8eff9bbd",
   "metadata": {},
   "outputs": [],
   "source": [
    "_zodal_lv1_idx = list(set(range(56))-set([37, 54]))"
   ]
  },
  {
   "cell_type": "code",
   "execution_count": null,
   "id": "3fa7ed86",
   "metadata": {},
   "outputs": [],
   "source": [
    "with open(\"./new_zodal_lv1.json\", \"w\") as f:\n",
    "    json.dump(new_zodal_lv1, f)"
   ]
  },
  {
   "cell_type": "markdown",
   "id": "b93204e4-6bb8-43e9-a33b-8736eee260e9",
   "metadata": {},
   "source": [
    "### 국문 조달청 Level 1카테고리 데이터와 UNSPSC Level 1 데이터를 Level 1 label에 대응"
   ]
  },
  {
   "cell_type": "code",
   "execution_count": null,
   "id": "d9d6e237",
   "metadata": {},
   "outputs": [],
   "source": [
    "zodal_lv1idx2lv1idx={}\n",
    "for i, v in enumerate(zodal_lv1_label.values()):\n",
    "    zodal_lv1idx2lv1idx[i]=v"
   ]
  },
  {
   "cell_type": "code",
   "execution_count": null,
   "id": "07ff5fef",
   "metadata": {},
   "outputs": [],
   "source": [
    "unscp_lv1idx2lv1idx={}\n",
    "for i, v in enumerate(unscp_lv1_label.values()):\n",
    "    unscp_lv1idx2lv1idx[i]=v"
   ]
  },
  {
   "cell_type": "code",
   "execution_count": null,
   "id": "49434886",
   "metadata": {},
   "outputs": [],
   "source": [
    "with open(\"./zodal_lv1idx2lv1idx.json\", \"w\") as f:\n",
    "    json.dump(zodal_lv1idx2lv1idx, f)\n",
    "    \n",
    "with open(\"./unscp_lv1idx2lv1idx.json\", \"w\") as f:\n",
    "    json.dump(unscp_lv1idx2lv1idx, f)"
   ]
  },
  {
   "cell_type": "code",
   "execution_count": null,
   "id": "6b941ae9",
   "metadata": {},
   "outputs": [],
   "source": [
    "lv1key2lv5idx = defaultdict(list)\n",
    "lv1idx2lv5idx = defaultdict(list)\n",
    "\n",
    "for k, v in lv5_idx2lv1_key.items():\n",
    "    lv1key2lv5idx[v].append(k)\n",
    "    lv1idx2lv5idx[lv1_key2idx[v]].append(k)"
   ]
  },
  {
   "cell_type": "code",
   "execution_count": null,
   "id": "5bcb4c0b",
   "metadata": {},
   "outputs": [],
   "source": [
    "with open(\"./lv1idx2lv5idx.json\", \"w\") as f:\n",
    "    json.dump(lv1idx2lv5idx, f)"
   ]
  },
  {
   "cell_type": "markdown",
   "id": "f403cfa7-bafc-457d-8fbc-18794a194d30",
   "metadata": {},
   "source": [
    "### 국문 조달청 Level 1 카테고리 label 과 임베딩 index 매칭"
   ]
  },
  {
   "cell_type": "code",
   "execution_count": null,
   "id": "e319327c",
   "metadata": {},
   "outputs": [],
   "source": [
    "emb_zodal_cat_lv1_max_leng_512_eos = torch.load(\"../../../kisti_output/emb_zodal_cat_lv1_max_leng_512_eos.pt\", map_location='cpu')\n",
    "emb_zodal_cat_lv1_max_leng_512_masked = torch.load(\"../../../kisti_output/emb_zodal_cat_lv1_max_leng_512_masked.pt\", map_location='cpu')\n",
    "emb_zodal_cat_lv1_max_leng_2048_eos = torch.load(\"../../../kisti_output/emb_zodal_cat_lv1_max_leng_2048_eos.pt\", map_location='cpu')\n",
    "emb_zodal_cat_lv1_max_leng_2048_masked = torch.load(\"../../../kisti_output/emb_zodal_cat_lv1_max_leng_2048_masked.pt\", map_location='cpu')\n",
    "\n",
    "_lv1_idx = list(set(range(56))-set([37, 54]))\n",
    "\n",
    "emb_zodal_cat_lv1_max_leng_512_eos=emb_zodal_cat_lv1_max_leng_512_eos[_lv1_idx]\n",
    "emb_zodal_cat_lv1_max_leng_512_masked=emb_zodal_cat_lv1_max_leng_512_masked[_lv1_idx]\n",
    "emb_zodal_cat_lv1_max_leng_2048_eos=emb_zodal_cat_lv1_max_leng_2048_eos[_lv1_idx]\n",
    "emb_zodal_cat_lv1_max_leng_2048_masked=emb_zodal_cat_lv1_max_leng_2048_masked[_lv1_idx]\n",
    "\n",
    "torch.save(emb_zodal_cat_lv1_max_leng_512_eos, \"../../../kisti_output/emb_zodal_cat_lv1_max_leng_512_eos.pt\")\n",
    "torch.save(emb_zodal_cat_lv1_max_leng_512_masked, \"../../../kisti_output/emb_zodal_cat_lv1_max_leng_512_masked.pt\")\n",
    "torch.save(emb_zodal_cat_lv1_max_leng_2048_eos, \"../../../kisti_output/emb_zodal_cat_lv1_max_leng_2048_eos.pt\")\n",
    "torch.save(emb_zodal_cat_lv1_max_leng_2048_masked, \"../../../kisti_output/emb_zodal_cat_lv1_max_leng_2048_masked.pt\")"
   ]
  },
  {
   "cell_type": "markdown",
   "id": "32daf7a1-711b-40aa-8766-c2c1f994a49b",
   "metadata": {},
   "source": [
    "### UNSPSC Level 1 label과 임베딩 index 매칭"
   ]
  },
  {
   "cell_type": "code",
   "execution_count": null,
   "id": "562fbbe3",
   "metadata": {},
   "outputs": [],
   "source": [
    "emb_unspsc_lv1_max_leng_512_eos = torch.load(\"../../../kisti_output/emb_unspsc_lv1_max_leng_512_eos.pt\", map_location='cpu')\n",
    "emb_unspsc_lv1_max_leng_512_masked = torch.load(\"../../../kisti_output/emb_unspsc_lv1_max_leng_512_masked.pt\", map_location='cpu')\n",
    "emb_unspsc_lv1_max_leng_2048_eos = torch.load(\"../../../kisti_output/emb_unspsc_lv1_max_leng_2048_eos.pt\", map_location='cpu')\n",
    "emb_unspsc_lv1_max_leng_2048_masked = torch.load(\"../../../kisti_output/emb_unspsc_lv1_max_leng_2048_masked.pt\", map_location='cpu')\n",
    "\n",
    "emb_unspsc_lv1_max_leng_512_eos=emb_unspsc_lv1_max_leng_512_eos[_un_lv1_idx]\n",
    "emb_unspsc_lv1_max_leng_512_masked=emb_unspsc_lv1_max_leng_512_masked[_un_lv1_idx]\n",
    "emb_unspsc_lv1_max_leng_2048_eos=emb_unspsc_lv1_max_leng_2048_eos[_un_lv1_idx]\n",
    "emb_unspsc_lv1_max_leng_2048_masked=emb_unspsc_lv1_max_leng_2048_masked[_un_lv1_idx]\n",
    "\n",
    "torch.save(emb_unspsc_lv1_max_leng_512_eos, \"../../../kisti_output/emb_unspsc_lv1_max_leng_512_eos.pt\")\n",
    "torch.save(emb_unspsc_lv1_max_leng_512_masked, \"../../../kisti_output/emb_unspsc_lv1_max_leng_512_masked.pt\")\n",
    "torch.save(emb_unspsc_lv1_max_leng_2048_eos, \"../../../kisti_output/emb_unspsc_lv1_max_leng_2048_eos.pt\")\n",
    "torch.save(emb_unspsc_lv1_max_leng_2048_masked, \"../../../kisti_output/emb_unspsc_lv1_max_leng_2048_masked.pt\")"
   ]
  },
  {
   "cell_type": "code",
   "execution_count": null,
   "id": "22ccd701",
   "metadata": {
    "scrolled": true
   },
   "outputs": [],
   "source": [
    "len(emb_unspsc_lv1_max_leng_512_eos), len(emb_unspsc_lv1_max_leng_512_masked), len(emb_unspsc_lv1_max_leng_2048_eos), len(emb_unspsc_lv1_max_leng_2048_masked)"
   ]
  }
 ],
 "metadata": {
  "kernelspec": {
   "display_name": "llama2",
   "language": "python",
   "name": "llama2"
  },
  "language_info": {
   "codemirror_mode": {
    "name": "ipython",
    "version": 3
   },
   "file_extension": ".py",
   "mimetype": "text/x-python",
   "name": "python",
   "nbconvert_exporter": "python",
   "pygments_lexer": "ipython3",
   "version": "3.9.17"
  }
 },
 "nbformat": 4,
 "nbformat_minor": 5
}
