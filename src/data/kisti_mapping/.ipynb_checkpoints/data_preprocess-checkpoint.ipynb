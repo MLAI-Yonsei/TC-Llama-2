{
 "cells": [
  {
   "cell_type": "code",
   "execution_count": 15,
   "metadata": {},
   "outputs": [],
   "source": [
    "import json\n",
    "import pandas as pd"
   ]
  },
  {
   "cell_type": "code",
   "execution_count": 67,
   "metadata": {
    "collapsed": false,
    "jupyter": {
     "outputs_hidden": false
    }
   },
   "outputs": [],
   "source": [
    "data = json.load(open(\"./task3/task3_product.json\"))"
   ]
  },
  {
   "cell_type": "code",
   "execution_count": 68,
   "metadata": {},
   "outputs": [],
   "source": [
    "# df = pd.DataFrame(data)"
   ]
  },
  {
   "cell_type": "code",
   "execution_count": 69,
   "metadata": {},
   "outputs": [],
   "source": [
    "# df['input'] = df['input'].astype(str)"
   ]
  },
  {
   "cell_type": "code",
   "execution_count": 70,
   "metadata": {},
   "outputs": [],
   "source": [
    "# df['output'] = df['output'].astype(str)"
   ]
  },
  {
   "cell_type": "code",
   "execution_count": 71,
   "metadata": {},
   "outputs": [
    {
     "data": {
      "text/plain": [
       "100"
      ]
     },
     "execution_count": 71,
     "metadata": {},
     "output_type": "execute_result"
    }
   ],
   "source": [
    "len(data)"
   ]
  },
  {
   "cell_type": "code",
   "execution_count": 72,
   "metadata": {
    "collapsed": false,
    "jupyter": {
     "outputs_hidden": false
    }
   },
   "outputs": [
    {
     "data": {
      "text/plain": [
       "{'input': '이 상품의 이름은 로엘 듀스핀5 PRO이고, 해당 상품의 상세 설명은 제조회사 : 로엘, 등록년월 : 2022년 10월, 유형 : 회전식, 형태 : 스틱형, 기능 : 물걸레전용, 무선유선방식 : 무선형, 충전시간 : 2시간30분, 사용시간(개당) : 3시간, 물분사 : O, nan : nan, 각도조절 : O, 셀프스탠딩 : O, 걸레자동세척 : O, 물통용량 : 0.3L, 적합성평가인증 : 상세설명 / 판매 사이트 문의 인증번호 확인, 안전확인인증 : 상세설명 / 판매 사이트 문의 인증번호 확인\\n 다음 상품을 계층적으로 4단계로 분류하였을 때, level 1: 가전/TV level 2: 생활가전 level 3: 청소기 level 4: 물걸레청소기 카테고리로 분류할 수 있습니다.',\n",
       " 'output': '다음 물품 분류는 습식바닥청소기, 영어로 Floor scrubbers 입니다. 습식바닥청소기의 상세설명은 다음과 같습니다. 물과 세제를 바닥에 분사하여 회전하는 브러시로 때를 제거하고 바닥에 남아있는 오수와 오물 등을 부착된 고무 스퀴즈툴을 통해 흡입하는 청소기로, 흡입과 건조를 동시에 수행하는 바닥청소기로, 주요 장치는 브러시, 흡입장치, 정수탱크, 폐수탱크 등으로 구성되어 있음. 단, 진공흡입 기능이 없는 습식 바닥청소기는 제외함.'}"
      ]
     },
     "execution_count": 72,
     "metadata": {},
     "output_type": "execute_result"
    }
   ],
   "source": [
    "data[0]"
   ]
  },
  {
   "cell_type": "code",
   "execution_count": 63,
   "metadata": {},
   "outputs": [],
   "source": [
    "# new_data = []\n",
    "# for i, row in df.iterrows():\n",
    "#     tmp = {\"input\":row['input'],\n",
    "#            \"output\":row['output']\n",
    "#           }\n",
    "#     new_data.append(tmp)"
   ]
  },
  {
   "cell_type": "code",
   "execution_count": 64,
   "metadata": {
    "collapsed": false,
    "jupyter": {
     "outputs_hidden": false
    }
   },
   "outputs": [],
   "source": [
    "new_data = []\n",
    "for e in data:\n",
    "    tmp = {\"input\" : e['input'],\n",
    "           \"output\" : e['output']}\n",
    "    new_data.append(tmp)"
   ]
  },
  {
   "cell_type": "code",
   "execution_count": 65,
   "metadata": {
    "collapsed": false,
    "jupyter": {
     "outputs_hidden": false
    }
   },
   "outputs": [
    {
     "data": {
      "text/plain": [
       "1005"
      ]
     },
     "execution_count": 65,
     "metadata": {},
     "output_type": "execute_result"
    }
   ],
   "source": [
    "len(new_data)"
   ]
  },
  {
   "cell_type": "code",
   "execution_count": 66,
   "metadata": {
    "collapsed": false,
    "jupyter": {
     "outputs_hidden": false
    }
   },
   "outputs": [],
   "source": [
    "with open(\"./task2/danawa_product.json\", \"w\", encoding='utf-8') as f:\n",
    "    json.dump(new_data, f, ensure_ascii=False)"
   ]
  },
  {
   "cell_type": "code",
   "execution_count": null,
   "metadata": {
    "collapsed": false,
    "jupyter": {
     "outputs_hidden": false
    }
   },
   "outputs": [],
   "source": []
  }
 ],
 "metadata": {
  "kernelspec": {
   "display_name": "Python 3 (ipykernel)",
   "language": "python",
   "name": "python3"
  },
  "language_info": {
   "codemirror_mode": {
    "name": "ipython",
    "version": 3
   },
   "file_extension": ".py",
   "mimetype": "text/x-python",
   "name": "python",
   "nbconvert_exporter": "python",
   "pygments_lexer": "ipython3",
   "version": "3.9.17"
  }
 },
 "nbformat": 4,
 "nbformat_minor": 4
}
